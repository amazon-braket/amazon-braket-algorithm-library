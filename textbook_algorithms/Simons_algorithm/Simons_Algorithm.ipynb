{
 "cells": [
  {
   "cell_type": "markdown",
   "metadata": {},
   "source": [
    "# Simon's Algorithm\n",
    "[Brief description of algorithm]"
   ]
  },
  {
   "cell_type": "markdown",
   "metadata": {},
   "source": [
    "# References \n",
    "[1] references here with hyperlinkns"
   ]
  },
  {
   "cell_type": "markdown",
   "metadata": {},
   "source": [
    "# Run on a local simulator"
   ]
  },
  {
   "cell_type": "code",
   "execution_count": 1,
   "metadata": {},
   "outputs": [],
   "source": [
    "import numpy as np\n",
    "import numpy.random as npr\n",
    "import matplotlib.pyplot as plt\n",
    "\n",
    "from simons_algorithm import simons_oracle, simons_circuit, submit_simons_task, process_simons_results\n",
    "from braket.aws import AwsDevice\n",
    "from braket.devices import LocalSimulator\n",
    "from braket.tracking import Tracker\n",
    "\n",
    "tracker = Tracker().start()"
   ]
  },
  {
   "cell_type": "code",
   "execution_count": 2,
   "metadata": {},
   "outputs": [],
   "source": [
    "n = 5\n",
    "s = \"\".join(npr.choice([\"0\",\"1\"], size=n))\n",
    "\n",
    "oracle = simons_oracle(s)"
   ]
  },
  {
   "cell_type": "markdown",
   "metadata": {},
   "source": [
    "# Print the circuits"
   ]
  },
  {
   "cell_type": "code",
   "execution_count": 3,
   "metadata": {},
   "outputs": [
    {
     "name": "stdout",
     "output_type": "stream",
     "text": [
      "T  : |0|    1    | 2 |3|4|\n",
      "                          \n",
      "q0 : -H-C---------C---C-H-\n",
      "        |         |   |   \n",
      "q1 : -H-|-C-------|-H-|---\n",
      "        | |       |   |   \n",
      "q2 : -H-|-|-C-----|-H-|---\n",
      "        | | |     |   |   \n",
      "q3 : -H-|-|-|-C---|-H-|---\n",
      "        | | | |   |   |   \n",
      "q4 : -H-|-|-|-|-C-|-H-|---\n",
      "        | | | | | |   |   \n",
      "q5 : ---X-|-|-|-|-X---|---\n",
      "          | | | |     |   \n",
      "q6 : -----X-|-|-|-----X---\n",
      "            | | |         \n",
      "q7 : -------X-|-|---------\n",
      "              | |         \n",
      "q8 : ---------X-|---------\n",
      "                |         \n",
      "q9 : -----------X---------\n",
      "\n",
      "T  : |0|    1    | 2 |3|4|\n"
     ]
    }
   ],
   "source": [
    "print(simons_circuit(oracle))\n"
   ]
  },
  {
   "cell_type": "code",
   "execution_count": 4,
   "metadata": {},
   "outputs": [],
   "source": [
    "local_simulator = LocalSimulator()\n",
    "\n",
    "task = submit_simons_task(oracle, local_simulator)"
   ]
  },
  {
   "cell_type": "code",
   "execution_count": 5,
   "metadata": {},
   "outputs": [
    {
     "name": "stdout",
     "output_type": "stream",
     "text": [
      "Result string: 11000\n",
      "Secret string 11000\n"
     ]
    }
   ],
   "source": [
    "secret_revealed = process_simons_results(task)\n",
    "print(\"Result string:\", secret_revealed)\n",
    "print(\"Secret string\", s)"
   ]
  },
  {
   "cell_type": "markdown",
   "metadata": {},
   "source": [
    "# Run on a QPU\n",
    "\n",
    "Here we run the Simon's algorithm on OQC Lucy device. The cost to run this experiment is \\$0.3 per task and \\$0.00035 per shot. When submitting a circuit, we specify a number of shots that is twice the number of qubits (i.e. four times the length of the secret string). For a string of 5 characters, the total cost is \\$0.30 USD."
   ]
  },
  {
   "cell_type": "code",
   "execution_count": 6,
   "metadata": {},
   "outputs": [],
   "source": [
    "# Code here\n",
    "oqc_lucy = AwsDevice(\"arn:aws:braket:eu-west-2::device/qpu/oqc/Lucy\")\n",
    "task = submit_simons_task(oqc_lucy)"
   ]
  },
  {
   "cell_type": "code",
   "execution_count": 7,
   "metadata": {},
   "outputs": [
    {
     "ename": "AttributeError",
     "evalue": "'str' object has no attribute 'keys'",
     "output_type": "error",
     "traceback": [
      "\u001b[0;31m---------------------------------------------------------------------------\u001b[0m",
      "\u001b[0;31mAttributeError\u001b[0m                            Traceback (most recent call last)",
      "\u001b[1;32m/Users/jjaskula/Documents/Devel/Quantum/Amazon-repos/Braket/amazon-braket-algorithm-library/textbook_algorithms/Simons_algorithm/Simons_Algorithm.ipynb Cell 12\u001b[0m in \u001b[0;36m<cell line: 3>\u001b[0;34m()\u001b[0m\n\u001b[1;32m      <a href='vscode-notebook-cell:/Users/jjaskula/Documents/Devel/Quantum/Amazon-repos/Braket/amazon-braket-algorithm-library/textbook_algorithms/Simons_algorithm/Simons_Algorithm.ipynb#X24sZmlsZQ%3D%3D?line=0'>1</a>\u001b[0m result \u001b[39m=\u001b[39m process_simons_results(task)\n\u001b[0;32m----> <a href='vscode-notebook-cell:/Users/jjaskula/Documents/Devel/Quantum/Amazon-repos/Braket/amazon-braket-algorithm-library/textbook_algorithms/Simons_algorithm/Simons_Algorithm.ipynb#X24sZmlsZQ%3D%3D?line=2'>3</a>\u001b[0m plt\u001b[39m.\u001b[39mbar(result\u001b[39m.\u001b[39;49mkeys(), result\u001b[39m.\u001b[39mvalues())\n\u001b[1;32m      <a href='vscode-notebook-cell:/Users/jjaskula/Documents/Devel/Quantum/Amazon-repos/Braket/amazon-braket-algorithm-library/textbook_algorithms/Simons_algorithm/Simons_Algorithm.ipynb#X24sZmlsZQ%3D%3D?line=3'>4</a>\u001b[0m plt\u001b[39m.\u001b[39mxlabel(\u001b[39m'\u001b[39m\u001b[39mbit strings\u001b[39m\u001b[39m'\u001b[39m);\n\u001b[1;32m      <a href='vscode-notebook-cell:/Users/jjaskula/Documents/Devel/Quantum/Amazon-repos/Braket/amazon-braket-algorithm-library/textbook_algorithms/Simons_algorithm/Simons_Algorithm.ipynb#X24sZmlsZQ%3D%3D?line=4'>5</a>\u001b[0m plt\u001b[39m.\u001b[39mylabel(\u001b[39m'\u001b[39m\u001b[39mcounts\u001b[39m\u001b[39m'\u001b[39m);\n",
      "\u001b[0;31mAttributeError\u001b[0m: 'str' object has no attribute 'keys'"
     ]
    }
   ],
   "source": [
    "secret_revealed = process_simons_results(task)\n",
    "print(\"Result string:\", secret_revealed)\n",
    "print(\"Secret string\", s)"
   ]
  },
  {
   "cell_type": "code",
   "execution_count": 8,
   "metadata": {},
   "outputs": [
    {
     "name": "stdout",
     "output_type": "stream",
     "text": [
      "Estimated cost to run this example: 0.00 USD\n"
     ]
    }
   ],
   "source": [
    "print(\n",
    "    f\"Estimated cost to run this example: {tracker.qpu_tasks_cost() + tracker.simulator_tasks_cost():.2f} USD\"\n",
    ")"
   ]
  },
  {
   "cell_type": "markdown",
   "metadata": {},
   "source": [
    "Note: Charges shown are estimates based on your Amazon Braket simulator and quantum processing unit (QPU) task usage. Estimated charges shown may differ from your actual charges. Estimated charges do not factor in any discounts or credits, and you may experience additional charges based on your use of other services such as Amazon Elastic Compute Cloud (Amazon EC2)."
   ]
  }
 ],
 "metadata": {
  "kernelspec": {
   "display_name": "Python 3.9.15 ('braket-pulse-beta')",
   "language": "python",
   "name": "python3"
  },
  "language_info": {
   "codemirror_mode": {
    "name": "ipython",
    "version": 3
   },
   "file_extension": ".py",
   "mimetype": "text/x-python",
   "name": "python",
   "nbconvert_exporter": "python",
   "pygments_lexer": "ipython3",
   "version": "3.9.15"
  },
  "orig_nbformat": 4,
  "vscode": {
   "interpreter": {
    "hash": "e8fe7b1d737818ec041fd05b4c8bbd1804e351a931e38c7cd860a34c69554183"
   }
  }
 },
 "nbformat": 4,
 "nbformat_minor": 2
}
