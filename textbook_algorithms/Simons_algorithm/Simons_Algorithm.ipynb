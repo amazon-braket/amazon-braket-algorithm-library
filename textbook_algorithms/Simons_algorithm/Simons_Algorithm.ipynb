{
 "cells": [
  {
   "cell_type": "markdown",
   "metadata": {},
   "source": [
    "# Simon's Algorithm\n",
    "[Brief description of algorithm]"
   ]
  },
  {
   "cell_type": "markdown",
   "metadata": {},
   "source": [
    "# References \n",
    "[1] references here with hyperlinkns"
   ]
  },
  {
   "cell_type": "markdown",
   "metadata": {},
   "source": [
    "# Run on a local simulator"
   ]
  },
  {
   "cell_type": "code",
   "execution_count": 1,
   "metadata": {},
   "outputs": [],
   "source": [
    "import numpy as np\n",
    "import numpy.random as npr\n",
    "import matplotlib.pyplot as plt\n",
    "\n",
    "from simons_algorithm import simons_circuit, submit_simons_tasks, process_simons_results\n",
    "from braket.aws import AwsDevice\n",
    "from braket.devices import LocalSimulator\n",
    "from braket.tracking import Tracker\n",
    "\n",
    "tracker = Tracker().start()"
   ]
  },
  {
   "cell_type": "code",
   "execution_count": 2,
   "metadata": {},
   "outputs": [
    {
     "name": "stdout",
     "output_type": "stream",
     "text": [
      "11111\n"
     ]
    }
   ],
   "source": [
    "n = 5\n",
    "s = \"\".join(npr.choice([\"0\",\"1\"], size=n))\n",
    "print(s)"
   ]
  },
  {
   "cell_type": "markdown",
   "metadata": {},
   "source": [
    "# Print the circuits"
   ]
  },
  {
   "cell_type": "code",
   "execution_count": 3,
   "metadata": {},
   "outputs": [
    {
     "name": "stdout",
     "output_type": "stream",
     "text": [
      "T  : |0|    1    | 2 |3|4|5|6|7|\n",
      "                                \n",
      "q0 : -H-C---------C---C-C-C-C-H-\n",
      "        |         |   | | | |   \n",
      "q1 : -H-|-C-------|-H-|-|-|-|---\n",
      "        | |       |   | | | |   \n",
      "q2 : -H-|-|-C-----|-H-|-|-|-|---\n",
      "        | | |     |   | | | |   \n",
      "q3 : -H-|-|-|-C---|-H-|-|-|-|---\n",
      "        | | | |   |   | | | |   \n",
      "q4 : -H-|-|-|-|-C-|-H-|-|-|-|---\n",
      "        | | | | | |   | | | |   \n",
      "q5 : ---X-|-|-|-|-X---|-|-|-|---\n",
      "          | | | |     | | | |   \n",
      "q6 : -----X-|-|-|-----X-|-|-|---\n",
      "            | | |       | | |   \n",
      "q7 : -------X-|-|-------X-|-|---\n",
      "              | |         | |   \n",
      "q8 : ---------X-|---------X-|---\n",
      "                |           |   \n",
      "q9 : -----------X-----------X---\n",
      "\n",
      "T  : |0|    1    | 2 |3|4|5|6|7|\n"
     ]
    }
   ],
   "source": [
    "print(simons_circuit(s))\n"
   ]
  },
  {
   "cell_type": "code",
   "execution_count": 4,
   "metadata": {},
   "outputs": [],
   "source": [
    "# Code here\n",
    "local_simulator = LocalSimulator()\n",
    "task = submit_simons_tasks(s, local_simulator)"
   ]
  },
  {
   "cell_type": "code",
   "execution_count": 5,
   "metadata": {},
   "outputs": [
    {
     "name": "stdout",
     "output_type": "stream",
     "text": [
      "Result string: 11111\n"
     ]
    }
   ],
   "source": [
    "secret_revealed = process_simons_results(task)\n",
    "print(\"Result string:\", secret_revealed)"
   ]
  },
  {
   "cell_type": "markdown",
   "metadata": {},
   "source": [
    "# Run on a QPU\n",
    "\n",
    "[Include estimated price for running in USD.]"
   ]
  },
  {
   "cell_type": "code",
   "execution_count": 15,
   "metadata": {},
   "outputs": [],
   "source": [
    "# Code here\n",
    "oqc_lucy = AwsDevice(\"arn:aws:braket:eu-west-2::device/qpu/oqc/Lucy\")\n",
    "# task = submit_simons_tasks(oqc_lucy)"
   ]
  },
  {
   "cell_type": "code",
   "execution_count": null,
   "metadata": {},
   "outputs": [],
   "source": [
    "result = process_simons_results(task)\n",
    "\n",
    "plt.bar(result.keys(), result.values())\n",
    "plt.xlabel('bit strings');\n",
    "plt.ylabel('counts');\n",
    "plt.xticks(rotation=70)\n",
    "plt.show()"
   ]
  },
  {
   "cell_type": "markdown",
   "metadata": {},
   "source": [
    "[Print the final costs]"
   ]
  },
  {
   "cell_type": "code",
   "execution_count": 6,
   "metadata": {},
   "outputs": [
    {
     "name": "stdout",
     "output_type": "stream",
     "text": [
      "Estimated cost to run this example: 0.00 USD\n"
     ]
    }
   ],
   "source": [
    "print(\n",
    "    f\"Estimated cost to run this example: {tracker.qpu_tasks_cost() + tracker.simulator_tasks_cost():.2f} USD\"\n",
    ")"
   ]
  },
  {
   "cell_type": "markdown",
   "metadata": {},
   "source": [
    "Note: Charges shown are estimates based on your Amazon Braket simulator and quantum processing unit (QPU) task usage. Estimated charges shown may differ from your actual charges. Estimated charges do not factor in any discounts or credits, and you may experience additional charges based on your use of other services such as Amazon Elastic Compute Cloud (Amazon EC2)."
   ]
  },
  {
   "cell_type": "markdown",
   "metadata": {},
   "source": []
  }
 ],
 "metadata": {
  "kernelspec": {
   "display_name": "Python 3.9.15 ('braket-pulse-beta')",
   "language": "python",
   "name": "python3"
  },
  "language_info": {
   "codemirror_mode": {
    "name": "ipython",
    "version": 3
   },
   "file_extension": ".py",
   "mimetype": "text/x-python",
   "name": "python",
   "nbconvert_exporter": "python",
   "pygments_lexer": "ipython3",
   "version": "3.9.15"
  },
  "orig_nbformat": 4,
  "vscode": {
   "interpreter": {
    "hash": "e8fe7b1d737818ec041fd05b4c8bbd1804e351a931e38c7cd860a34c69554183"
   }
  }
 },
 "nbformat": 4,
 "nbformat_minor": 2
}
