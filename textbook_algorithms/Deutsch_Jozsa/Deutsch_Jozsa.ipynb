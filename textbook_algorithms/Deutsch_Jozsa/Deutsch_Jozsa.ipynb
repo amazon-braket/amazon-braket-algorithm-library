{
 "cells": [
  {
   "cell_type": "markdown",
   "metadata": {},
   "source": [
    "# Deutsch Jozsa Algorithm\n",
    "\n",
    "The Deutsch-Jozsa algorithm is one of the first quantu algorithms that \n",
    "\n",
    "used to determine if a binary-valued function is constant or balanced "
   ]
  },
  {
   "cell_type": "markdown",
   "metadata": {},
   "source": [
    "# References \n",
    "[1] David Deutsch and Richard Jozsa (1992). \"Rapid solutions of problems by quantum computation\". Proceedings of the Royal Society of London A. 439: 553–558. doi:10.1098/rspa.1992.0167."
   ]
  },
  {
   "cell_type": "markdown",
   "metadata": {},
   "source": [
    "# Run on a local simulator"
   ]
  },
  {
   "cell_type": "code",
   "execution_count": 1,
   "metadata": {},
   "outputs": [
    {
     "ename": "ImportError",
     "evalue": "cannot import name 'deutsch_jozsa_circuit' from 'deutsch_jozsa' (/Users/drbeach/Documents/GitHub/amazon-braket-algorithm-library/textbook_algorithms/Deutsch_Jozsa/deutsch_jozsa.py)",
     "output_type": "error",
     "traceback": [
      "\u001b[0;31m---------------------------------------------------------------------------\u001b[0m",
      "\u001b[0;31mImportError\u001b[0m                               Traceback (most recent call last)",
      "Cell \u001b[0;32mIn [1], line 1\u001b[0m\n\u001b[0;32m----> 1\u001b[0m \u001b[39mfrom\u001b[39;00m \u001b[39mdeutsch_jozsa\u001b[39;00m \u001b[39mimport\u001b[39;00m deutsch_jozsa_circuit\n",
      "\u001b[0;31mImportError\u001b[0m: cannot import name 'deutsch_jozsa_circuit' from 'deutsch_jozsa' (/Users/drbeach/Documents/GitHub/amazon-braket-algorithm-library/textbook_algorithms/Deutsch_Jozsa/deutsch_jozsa.py)"
     ]
    }
   ],
   "source": [
    "from deutsch_jozsa import deutsch_jozsa_circuit"
   ]
  },
  {
   "cell_type": "code",
   "execution_count": 4,
   "metadata": {},
   "outputs": [],
   "source": [
    "# Code here\n",
    "local_simulator = LocalSimulator()\n",
    "task = local_simulator.run(circuit, shots=100)\n",
    "result = task.result()"
   ]
  },
  {
   "cell_type": "markdown",
   "metadata": {},
   "source": [
    "# [Optional] Run on a QPU\n",
    "\n",
    "[Include estimated price for running in USD.]"
   ]
  },
  {
   "cell_type": "code",
   "execution_count": null,
   "metadata": {},
   "outputs": [],
   "source": [
    "# Code here\n",
    "qpu = AwsDevice(\"quantum_arn\")\n",
    "task = qpu.run(circuit, shots=100)\n",
    "result = task.result()"
   ]
  },
  {
   "cell_type": "markdown",
   "metadata": {},
   "source": [
    "[Print the final costs]"
   ]
  },
  {
   "cell_type": "code",
   "execution_count": 6,
   "metadata": {},
   "outputs": [],
   "source": [
    "print(\n",
    "    f\"Estimated cost to run this example: {tracker.qpu_tasks_cost() + tracker.simulator_tasks_cost():.2f} USD\"\n",
    ")"
   ]
  },
  {
   "cell_type": "markdown",
   "metadata": {},
   "source": [
    "Note: Charges shown are estimates based on your Amazon Braket simulator and quantum processing unit (QPU) task usage. Estimated charges shown may differ from your actual charges. Estimated charges do not factor in any discounts or credits, and you may experience additional charges based on your use of other services such as Amazon Elastic Compute Cloud (Amazon EC2)."
   ]
  }
 ],
 "metadata": {
  "kernelspec": {
   "display_name": "Python 3.9.5 64-bit ('braket')",
   "language": "python",
   "name": "python3"
  },
  "language_info": {
   "codemirror_mode": {
    "name": "ipython",
    "version": 3
   },
   "file_extension": ".py",
   "mimetype": "text/x-python",
   "name": "python",
   "nbconvert_exporter": "python",
   "pygments_lexer": "ipython3",
   "version": "3.9.5"
  },
  "orig_nbformat": 4,
  "vscode": {
   "interpreter": {
    "hash": "5904cb9a2089448a2e1aeb5d493d227c9de33e591d7c07e4016fb81e71061a5d"
   }
  }
 },
 "nbformat": 4,
 "nbformat_minor": 2
}
