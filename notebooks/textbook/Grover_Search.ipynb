{
    "cells": [
        {
            "cell_type": "markdown",
            "metadata": {},
            "source": [
                "# Grover's Search Algorithm"
            ]
        },
        {
            "cell_type": "markdown",
            "metadata": {},
            "source": [
                "Grover's algorithm is arguably one of the canonical quantum algorithms that kick-started the field of quantum computing. In the future, it could possibly serve as a hallmark application of quantum computing. Grover's algorithm allows us to find a particular register in an unordered database with $N$ entries in just $O(\\sqrt{N})$ steps, compared to the best classical algorithm taking on average $N/2$ steps, thereby providing a __quadratic speedup__. For large databases (with a large number of entries, $N$), a quadratic speedup can provide a significant advantage. For a database with one million entries, a quantum computer running Grover's algorithm would need about 1000 runs, while a classical computer would need, on average, $500,000$ runs.\n",
                "\n",
                "In this notebook, we implement Gover's algorithm based on ion-trap experiments [1]. In particular, we implement the phase oracle (see Figure 1d and 1e of this paper). For a compherensive description of the algorithm see Chapter 6 of [2]. In the ion-trap experiments [1], the oracle encodes bitstrings with length three. Here, we extend the bitstrings to arbitrary length. We use generalized Toffoli gates to construct the oracle. Following reference [3], the generalized Toffoli gates is decomposed into Toffoli gates. \n",
                "\n",
                "\n",
                "---\n",
                "# References <a name=\"ref\"></a>\n",
                "\n",
                "[1] C. Figgatt, D. Maslov, K. A. Landsman, N. M. Linke, S. Debnath & C. Monroe (2017). \"Complete 3-Qubit Grover search on a programmable quantum computer\", Nature Communications, Vol 8, Art 1918, doi:10.1038/s41467-017-01904-7, arXiv:1703.10535.\n",
                "\n",
                "[2] Nielsen, Michael A., Chuang, Isaac L. (2010). Quantum Computation and Quantum Information (2nd ed.). Cambridge: Cambridge University Press.\n",
                "\n",
                "[3] J. M. Baker, C. Duckering, A. Hoover, F. T. Chong (2019). Decomposing Quantum Generalized Toffoli with an Arbitrary Number of Ancilla. arXiv:1904.01671."
            ]
        },
        {
            "cell_type": "code",
            "execution_count": 1,
            "metadata": {},
            "outputs": [],
            "source": [
                "import matplotlib.pyplot as plt\n",
                "import numpy as np\n",
                "\n",
                "%matplotlib inline\n",
                "\n",
                "from braket.aws import AwsDevice\n",
                "from braket.circuits import Circuit\n",
                "from braket.devices import LocalSimulator\n",
                "from braket.tracking import Tracker\n",
                "\n",
                "from braket.experimental.algorithms.grover_search import (\n",
                "    build_oracle,\n",
                "    grover_search,\n",
                "    plot_bitstrings,\n",
                ")"
            ]
        },
        {
            "cell_type": "code",
            "execution_count": 2,
            "metadata": {},
            "outputs": [
                {
                    "name": "stdout",
                    "output_type": "stream",
                    "text": [
                        "number of data qubits:  3\n",
                        "number of ancilla qubits:  3\n",
                        "T  : |0| 1 |2| 3 |4|5| 6 |7| 8 |9|10|Result Types|\n",
                        "                                                  \n",
                        "q0 : -H-C-------C-H-X-C-------C-X-H--Probability--\n",
                        "        |       |     |       |      |            \n",
                        "q1 : -H-|-C---C-|-H-X-|-C---C-|-X-H--Probability--\n",
                        "        | |   | |     | |   | |      |            \n",
                        "q2 : -H-|-C---C-|-H-X-|-C---C-|-X-H--Probability--\n",
                        "        | |   | |     | |   | |                   \n",
                        "q3 : ---X-|-C-|-X-----X-|-C-|-X-------------------\n",
                        "          | | |         | | |                     \n",
                        "q4 : -----X-C-X---------X-C-X---------------------\n",
                        "            |             |                       \n",
                        "q5 : -X-H---X-H---X-X-H---X-H---X-----------------\n",
                        "\n",
                        "T  : |0| 1 |2| 3 |4|5| 6 |7| 8 |9|10|Result Types|\n"
                    ]
                }
            ],
            "source": [
                "solution = \"111\"\n",
                "n_qubits = len(solution)\n",
                "\n",
                "oracle = build_oracle(solution)\n",
                "circuit = grover_search(oracle, n_qubits=n_qubits, n_reps=1)\n",
                "\n",
                "print(\"number of data qubits: \", n_qubits)\n",
                "print(\"number of ancilla qubits: \", circuit.qubit_count - n_qubits)\n",
                "print(circuit)"
            ]
        },
        {
            "cell_type": "markdown",
            "metadata": {},
            "source": [
                "# Run on a local simulator\n",
                "We demonstrate Grover's algorithm on a classical simulator first. You can choose between a local simulator or an on-demand simulator."
            ]
        },
        {
            "cell_type": "code",
            "execution_count": 3,
            "metadata": {},
            "outputs": [],
            "source": [
                "local_simulator = LocalSimulator()"
            ]
        },
        {
            "cell_type": "code",
            "execution_count": 4,
            "metadata": {},
            "outputs": [
                {
                    "name": "stdout",
                    "output_type": "stream",
                    "text": [
                        "LocalQuantumTask('id':d6798c82-f44f-4a6a-bb05-971d1087b4b1)\n"
                    ]
                }
            ],
            "source": [
                "task = local_simulator.run(circuit, shots=1000)\n",
                "print(task)"
            ]
        },
        {
            "cell_type": "code",
            "execution_count": 5,
            "metadata": {},
            "outputs": [
                {
                    "name": "stdout",
                    "output_type": "stream",
                    "text": [
                        "[0.028 0.025 0.025 0.043 0.026 0.035 0.036 0.782]\n"
                    ]
                }
            ],
            "source": [
                "result = task.result()\n",
                "probabilities = result.values[0]\n",
                "print(probabilities)"
            ]
        },
        {
            "cell_type": "code",
            "execution_count": 6,
            "metadata": {},
            "outputs": [
                {
                    "data": {
                        "image/png": "[encoded data removed]",
                        "text/plain": [
                            "<Figure size 432x288 with 1 Axes>"
                        ]
                    },
                    "metadata": {
                        "needs_background": "light"
                    },
                    "output_type": "display_data"
                }
            ],
            "source": [
                "plot_bitstrings(probabilities)"
            ]
        },
        {
            "cell_type": "markdown",
            "metadata": {},
            "source": [
                "# Run on a QPU\n",
                "\n",
                "Now we run on IonQ. Toffolo gate (CCNot) is not a supported gate of IonQ device. We use the `decompose_ccnot=True` to decompose the Toffoli gate into CNot, Ti, T and H gates. "
            ]
        },
        {
            "cell_type": "code",
            "execution_count": 8,
            "metadata": {},
            "outputs": [],
            "source": [
                "# managed_device = AwsDevice(\"arn:aws:braket:::device/qpu/ionq/ionQdevice\")\n",
                "managed_device = AwsDevice(\"arn:aws:braket:::device/quantum-simulator/amazon/sv1\")"
            ]
        },
        {
            "cell_type": "code",
            "execution_count": 9,
            "metadata": {},
            "outputs": [],
            "source": [
                "from braket.tracking import Tracker\n",
                "\n",
                "tracker = Tracker().start()"
            ]
        },
        {
            "cell_type": "code",
            "execution_count": 10,
            "metadata": {},
            "outputs": [],
            "source": [
                "# Uncomment and run this block to submit the circuit to QPU\n",
                "\n",
                "# oracle = build_oracle(solution, decompose_ccnot=True)\n",
                "# circuit_qpu = grover_search(oracle, n_qubits=n_qubits, n_reps=1, decompose_ccnot=True)\n",
                "# qpu_task = managed_device.run(circuit_qpu, shots=1000)"
            ]
        },
        {
            "cell_type": "code",
            "execution_count": 11,
            "metadata": {},
            "outputs": [
                {
                    "name": "stdout",
                    "output_type": "stream",
                    "text": [
                        "[0.026 0.03  0.035 0.031 0.024 0.037 0.04  0.777]\n"
                    ]
                }
            ],
            "source": [
                "qpu_result = qpu_task.result()\n",
                "probabilities = qpu_result.values[0]\n",
                "print(probabilities)"
            ]
        },
        {
            "cell_type": "code",
            "execution_count": 12,
            "metadata": {},
            "outputs": [
                {
                    "data": {
                        "image/png": "[encoded data removed]",
                        "text/plain": [
                            "<Figure size 432x288 with 1 Axes>"
                        ]
                    },
                    "metadata": {
                        "needs_background": "light"
                    },
                    "output_type": "display_data"
                }
            ],
            "source": [
                "plot_bitstrings(probabilities)"
            ]
        },
        {
            "cell_type": "code",
            "execution_count": 14,
            "metadata": {},
            "outputs": [
                {
                    "name": "stdout",
                    "output_type": "stream",
                    "text": [
                        "Task Summary for device\n",
                        "{'arn:aws:braket:::device/quantum-simulator/amazon/sv1': {'shots': 1000, 'tasks': {'COMPLETED': 1}, 'execution_duration': datetime.timedelta(microseconds=13000), 'billed_execution_duration': datetime.timedelta(seconds=3)}}\n"
                    ]
                }
            ],
            "source": [
                "tracker.stop()\n",
                "print(\"Task Summary for device\")\n",
                "print(tracker.quantum_tasks_statistics())"
            ]
        },
        {
            "cell_type": "markdown",
            "metadata": {},
            "source": [
                "Note: Charges shown are estimates based on your Amazon Braket simulator and quantum processing unit (QPU) task usage. Estimated charges shown may differ from your actual charges. Estimated charges do not factor in any discounts or credits, and you may experience additional charges based on your use of other services such as Amazon Elastic Compute Cloud (Amazon EC2)."
            ]
        }
    ],
    "metadata": {
        "kernelspec": {
            "display_name": "Python 3 (ipykernel)",
            "language": "python",
            "name": "python3"
        },
        "language_info": {
            "codemirror_mode": {
                "name": "ipython",
                "version": 3
            },
            "file_extension": ".py",
            "mimetype": "text/x-python",
            "name": "python",
            "nbconvert_exporter": "python",
            "pygments_lexer": "ipython3",
            "version": "3.9.7"
        },
        "vscode": {
            "interpreter": {
                "hash": "5904cb9a2089448a2e1aeb5d493d227c9de33e591d7c07e4016fb81e71061a5d"
            }
        }
    },
    "nbformat": 4,
    "nbformat_minor": 4
}