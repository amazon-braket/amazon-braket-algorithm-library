{
    "cells": [
        {
            "cell_type": "markdown",
            "metadata": {},
            "source": [
                "# CHSH Inequality\n",
                "\n",
                "This tutorial shows how to run the CHSH inequality experiment in Braket on local simulator and a QPU.   \n",
                "\n",
                "\n",
                "# Background \n",
                "\n",
                "The CHSH (Clauser, Horne, Shimony and Holt) inequality is a generalization of Bell's inequality [3]. For a singlet state\n",
                "$$|\\psi ^{-}\\rangle = \\frac{1}{\\sqrt{2}}\\left(|+-\\rangle + |-+\\rangle \\right )$$\n",
                "the CHSH inequality is\n",
                "\n",
                "$$\n",
                "|P(a,b) - P(a,c)| + |P(d,b) + P(d,c)| \\leq 2\n",
                "$$\n",
                "for measurement settings $a,d$ on the first particle and settings $b,c$ on the second particle. This reduces to Bell's original inequality if $d=b$."
            ]
        },
        {
            "cell_type": "markdown",
            "metadata": {},
            "source": [
                "## References \n",
                "\n",
                "[1]  Bell, J. S. On the Einstein Podolsky Rosen Paradox. Physics Physique Fizika 1, no. 3 (November 1, 1964): 195–200. https://doi.org/10.1103/PhysicsPhysiqueFizika.1.195. \n",
                "\n",
                "[2] Greenberger, Daniel M., Michael A. Horne, Abner Shimony, and Anton Zeilinger (1990). Bell’s Theorem without Inequalities. American Journal of Physics 58, no. 12: 1131–43. https://doi.org/10.1119/1.16243. \n",
                "\n",
                "[3] John F. Clauser, Michael A. Horne, Abner Shimony, and Richard A. Holt. Proposed Experiment to Test Local Hidden-Variable Theories. Phys. Rev. Lett. 23, 880 – Published 13 October 1969; Erratum Phys. Rev. Lett. 24, 549 (1970) https://journals.aps.org/prl/abstract/10.1103/PhysRevLett.23.880\n",
                "\n",
                "[4] The Nobel Committee for Physics, Scientific Background on the Nobel Prize in Physics 2022, https://www.nobelprize.org/uploads/2022/10/advanced-physicsprize2022.pdf\n",
                "\n",
                "[5] John Preskill, Quantum Information and Computation, Chapter 4, Page 18, http://theory.caltech.edu/~preskill/ph229/notes/chap4_01.pdf"
            ]
        },
        {
            "cell_type": "markdown",
            "metadata": {},
            "source": [
                "# Run on a local simulator"
            ]
        },
        {
            "cell_type": "code",
            "execution_count": 1,
            "metadata": {},
            "outputs": [],
            "source": [
                "import numpy as np\n",
                "from braket.devices import LocalSimulator\n",
                "from braket.tracking import Tracker\n",
                "\n",
                "from braket.experimental.algorithms.chsh_inequality import (\n",
                "    create_chsh_inequality_circuits,\n",
                "    run_chsh_inequality,\n",
                "    get_chsh_results,\n",
                ")\n",
                "\n",
                "tracker = Tracker().start()  # to keep track of Braket costs"
            ]
        },
        {
            "cell_type": "markdown",
            "metadata": {},
            "source": [
                "CHSH Inequality experiment consists of four circuits acting on two qubits each. The four circuits are grouped together in the `create_chsh_inequality_circuits` function below which takes as arguments the two qubits to act on and the four angles to rotate the first qubit by. The default values \n",
                "$$a = 0$$\n",
                "$$b = \\pi/4$$\n",
                "$$c = 3\\pi/4$$\n",
                "$$d = \\pi/2\n",
                "$$\n",
                "which gives maximum violation of the CHSH inequality. "
            ]
        },
        {
            "cell_type": "code",
            "execution_count": 2,
            "metadata": {},
            "outputs": [],
            "source": [
                "# CHSH reduces to Bell's original inequality with d==b\n",
                "# circuits = create_chsh_inequality_circuits(a=0, b=np.pi/3, c=2*np.pi/3, d=np.pi/3)\n",
                "\n",
                "# Maximum violation of CHSH inequality for singlet states\n",
                "circuits = create_chsh_inequality_circuits(a=0, b=np.pi / 4, c=3 * np.pi / 4, d=np.pi / 2)"
            ]
        },
        {
            "cell_type": "markdown",
            "metadata": {},
            "source": [
                "The circuits can be run on the Braket local simulator with:"
            ]
        },
        {
            "cell_type": "code",
            "execution_count": 3,
            "metadata": {},
            "outputs": [],
            "source": [
                "local_tasks = run_chsh_inequality(circuits, LocalSimulator(), shots=0)"
            ]
        },
        {
            "cell_type": "markdown",
            "metadata": {},
            "source": [
                "The results of the inequality experiment are called using the `get_chsh_results` function below."
            ]
        },
        {
            "cell_type": "code",
            "execution_count": 4,
            "metadata": {},
            "outputs": [
                {
                    "name": "stdout",
                    "output_type": "stream",
                    "text": [
                        "P(a,b) = -0.7071067811865474, P(a,c) = 0.7071067811865472, P(d,b) = -0.7071067811865475, P(d,c) = -0.7071067811865472\n",
                        "\n",
                        "CHSH inequality: 2.828427124746189 ≤ 2\n",
                        "CHSH inequality is violated!\n",
                        "Notice that the quantity may not be exactly as predicted by Quantum theory. This is may be due to finite shots or the effects of noise on the QPU.\n"
                    ]
                }
            ],
            "source": [
                "chsh_value, results, Pab, Pac, Pdb, Pdc = get_chsh_results(local_tasks, verbose=True)"
            ]
        },
        {
            "cell_type": "markdown",
            "metadata": {},
            "source": [
                "Notice the CHSH value is very close to $2\\sqrt{2}\\approx 2.828$. "
            ]
        },
        {
            "cell_type": "markdown",
            "metadata": {},
            "source": [
                "Below, we plot the CHSH value for various values of the angles. "
            ]
        },
        {
            "cell_type": "code",
            "execution_count": 7,
            "metadata": {},
            "outputs": [
                {
                    "name": "stdout",
                    "output_type": "stream",
                    "text": [
                        "\n",
                        "For all the iterations:\n",
                        " Max CHSH_inequality: 2.8281615256187003 Corresponding theta: 0.7774648486156559\n"
                    ]
                }
            ],
            "source": [
                "local_simulator = LocalSimulator()\n",
                "angles = np.linspace(0, np.pi / 2, 100)\n",
                "\n",
                "chsh_inequality_lhs_max = 0\n",
                "chsh_inequality_lhs_max_theta = 0\n",
                "chsh_values = []\n",
                "\n",
                "for theta in angles:\n",
                "    circuits = create_chsh_inequality_circuits(a=0, b=theta, c=3 * theta, d=2 * theta)\n",
                "    local_tasks = run_chsh_inequality(circuits, local_simulator, shots=0)\n",
                "    chsh_value, results, pAB, pAC, pDB, pDC = get_chsh_results(local_tasks, verbose=False)\n",
                "    if chsh_value > chsh_inequality_lhs_max:\n",
                "        chsh_inequality_lhs_max = abs(chsh_value)\n",
                "        chsh_inequality_lhs_max_theta = theta\n",
                "    chsh_values.append(chsh_value)\n",
                "\n",
                "print(\n",
                "    \"\\nFor all the iterations:\\n Max CHSH_inequality:\",\n",
                "    chsh_inequality_lhs_max,\n",
                "    \"Corresponding theta:\",\n",
                "    chsh_inequality_lhs_max_theta,\n",
                ")"
            ]
        },
        {
            "cell_type": "markdown",
            "metadata": {},
            "source": [
                "Plotting the CHSH Value against theta angle to determine which theta gives maximum violation."
            ]
        },
        {
            "cell_type": "code",
            "execution_count": 9,
            "metadata": {
                "scrolled": false
            },
            "outputs": [
                {
                    "data": {
                        "image/png": "[encoded data removed]",
                        "text/plain": [
                            "<Figure size 800x500 with 1 Axes>"
                        ]
                    },
                    "metadata": {},
                    "output_type": "display_data"
                }
            ],
            "source": [
                "import matplotlib.pyplot as plt\n",
                "import matplotlib.ticker as tck\n",
                "\n",
                "%matplotlib inline\n",
                "\n",
                "fig, ax = plt.subplots(figsize=(8, 5))\n",
                "plt.plot(angles, chsh_values, \".\", label=\"CHSH Value\")\n",
                "\n",
                "plt.grid(which=\"major\", axis=\"both\")\n",
                "plt.axhline(y=2, color=\"r\", linestyle=\"-\")\n",
                "plt.axhline(y=-2, color=\"r\", linestyle=\"-\")\n",
                "plt.axvline(np.pi / 4, color=\"k\", linestyle=\"-\")\n",
                "plt.axhline(y=np.sqrt(2) * 2, color=\"k\", linestyle=\"-.\")\n",
                "plt.axhline(y=-np.sqrt(2) * 2, color=\"k\", linestyle=\"-.\")\n",
                "ax.xaxis.set_major_formatter(tck.FormatStrFormatter(r\"%g$\\pi$\"))\n",
                "ax.xaxis.set_major_locator(tck.MultipleLocator(base=0.5))\n",
                "plt.xlabel(\"Angle\")\n",
                "plt.ylabel(\"CHSH Value\");"
            ]
        },
        {
            "cell_type": "markdown",
            "metadata": {},
            "source": [
                "From the plot, we see that the maximum violation is for $\\theta = \\pi/4$ as expected. The red line shows the classical bounds of $\\text{CHSH} \\leq 2$ and the dotted black line shows the quantum bound at $\\text{CHSH} \\leq 2\\sqrt{2}$. "
            ]
        },
        {
            "cell_type": "markdown",
            "metadata": {},
            "source": [
                "# Run on a QPU\n",
                "\n",
                "To run CHSH inequality on a QPU, we replace the LocalSimulator with an AwsDevice. \n",
                "To reduce the cost, we run the the experiment only for the theta which gave the maximum CHSH inequality value.\n",
                "\n",
                "The cost to run this experiment is \\$0.3 per task and \\$0.00035 per shot on the Oxford Quantum Circuits Lucy device. Since we have four circuits of 1000 shots each, that totals \\$2.60 USD."
            ]
        },
        {
            "cell_type": "code",
            "execution_count": null,
            "metadata": {},
            "outputs": [],
            "source": [
                "# Uncomment the following to run on QPU\n",
                "# from braket.aws import AwsDevice\n",
                "# device = AwsDevice(\"arn:aws:braket:eu-west-2::device/qpu/oqc/Lucy\")\n",
                "# circuits = create_chsh_inequality_circuits()\n",
                "# tasks = run_chsh_inequality(circuits, device, shots=1_000)\n",
                "# chsh_value, results, pAB, pAC, pDB, pDC = get_chsh_results(tasks)"
            ]
        },
        {
            "cell_type": "markdown",
            "metadata": {},
            "source": [
                "We see that CHSH inequality is violated, so the device is demonstrating quantum behavior."
            ]
        },
        {
            "cell_type": "code",
            "execution_count": null,
            "metadata": {},
            "outputs": [],
            "source": [
                "print(\n",
                "    f\"Estimated cost to run this example: {tracker.qpu_tasks_cost() + tracker.simulator_tasks_cost() :.2f} USD\"\n",
                ")"
            ]
        },
        {
            "cell_type": "markdown",
            "metadata": {},
            "source": [
                "Note: Charges shown are estimates based on your Amazon Braket simulator and quantum processing unit (QPU) task usage. Estimated charges shown may differ from your actual charges. Estimated charges do not factor in any discounts or credits, and you may experience additional charges based on your use of other services such as Amazon Elastic Compute Cloud (Amazon EC2)."
            ]
        }
    ],
    "metadata": {
        "kernelspec": {
            "display_name": "Python 3 (ipykernel)",
            "language": "python",
            "name": "python3"
        },
        "language_info": {
            "codemirror_mode": {
                "name": "ipython",
                "version": 3
            },
            "file_extension": ".py",
            "mimetype": "text/x-python",
            "name": "python",
            "nbconvert_exporter": "python",
            "pygments_lexer": "ipython3",
            "version": "3.9.5"
        },
        "vscode": {
            "interpreter": {
                "hash": "5904cb9a2089448a2e1aeb5d493d227c9de33e591d7c07e4016fb81e71061a5d"
            }
        }
    },
    "nbformat": 4,
    "nbformat_minor": 4
}
