{
 "cells": [
  {
   "cell_type": "markdown",
   "id": "8b423ad7",
   "metadata": {},
   "source": [
    "# QUANTUM APPROXIMATE OPTIMIZATION ALGORITHM (QAOA)"
   ]
  },
  {
   "cell_type": "markdown",
   "id": "12e108d5",
   "metadata": {},
   "source": [
    "In this tutorial we show how to (approximately) solve binary combinatorial optimization problems, using the __Quantum Approximate Optimization Algorithm (QAOA)__.\n",
    "\n",
    "\n",
    "## References \n",
    "[1] Edward Farhi, Jeffrey Goldstone, and Sam Gutmann, \"A Quantum Approximate Optimization Algorithm Applied to a Bounded Occurrence Constraint Problem,\" (2014), [arXiv:1412.6062](https://arxiv.org/abs/1411.4028)"
   ]
  },
  {
   "cell_type": "code",
   "execution_count": 1,
   "id": "bd0a975d",
   "metadata": {},
   "outputs": [],
   "source": [
    "import numpy as np\n",
    "from braket.devices import LocalSimulator\n",
    "from scipy.optimize import minimize\n",
    "\n",
    "from braket.experimental.algorithms.qaoa import cost_function, qaoa\n",
    "from braket.tracking import Tracker\n",
    "\n",
    "tracker = Tracker().start() # to track Braket costs"
   ]
  },
  {
   "cell_type": "code",
   "execution_count": 2,
   "id": "50e4d13a",
   "metadata": {},
   "outputs": [
    {
     "name": "stdout",
     "output_type": "stream",
     "text": [
      "[[0.         0.57900089]\n",
      " [0.41324085 0.        ]]\n"
     ]
    }
   ],
   "source": [
    "n_qubits = 2\n",
    "n_layers = 1\n",
    "\n",
    "coupling_matrix = np.diag(np.ones(n_qubits - 1), 1)\n",
    "coupling_matrix = np.random.rand(n_qubits, n_qubits)\n",
    "for i in range(n_qubits):\n",
    "    coupling_matrix[i, i] = 0  # remove diagonal elements\n",
    "\n",
    "print(coupling_matrix)"
   ]
  },
  {
   "cell_type": "code",
   "execution_count": 3,
   "id": "6e26acc1",
   "metadata": {},
   "outputs": [
    {
     "name": "stdout",
     "output_type": "stream",
     "text": [
      "T  : |0|1|              2              |3|4|              5              |6|     7      |          Result Types           |\n",
      "                                                                                                                           \n",
      "q0 : -H-C-------------------------------C-X-Rz(0.413240851083082*gamma_0)-X-Rx(2*beta_0)-Expectation(Z@Z)-Expectation(Z@Z)-\n",
      "        |                               | |                               |              |                |                \n",
      "q1 : -H-X-Rz(0.579000888442573*gamma_0)-X-C-------------------------------C-Rx(2*beta_0)-Expectation(Z@Z)-Expectation(Z@Z)-\n",
      "\n",
      "T  : |0|1|              2              |3|4|              5              |6|     7      |          Result Types           |\n",
      "\n",
      "Unassigned parameters: [beta_0, gamma_0].\n"
     ]
    }
   ],
   "source": [
    "circ = qaoa(n_qubits, n_layers, coupling_matrix)\n",
    "print(circ)"
   ]
  },
  {
   "cell_type": "code",
   "execution_count": 4,
   "id": "223d34d0",
   "metadata": {},
   "outputs": [
    {
     "name": "stdout",
     "output_type": "stream",
     "text": [
      "[0.5790008884425731, 0.41324085108308184]\n"
     ]
    }
   ],
   "source": [
    "idx = coupling_matrix.nonzero()\n",
    "coeffs = [coupling_matrix[qubit_pair] for qubit_pair in zip(idx[0], idx[1])]\n",
    "print(coeffs)"
   ]
  },
  {
   "cell_type": "markdown",
   "id": "8cc043c3",
   "metadata": {},
   "source": [
    "## Run on a local simulator\n",
    "\n",
    "Now we run the QAOA on a local simulator by the Nelder-Mead method from scipy.optimize."
   ]
  },
  {
   "cell_type": "code",
   "execution_count": 5,
   "id": "c700195c",
   "metadata": {},
   "outputs": [],
   "source": [
    "device = LocalSimulator()\n",
    "\n",
    "init_values = np.random.rand(2 * n_layers)\n",
    "\n",
    "# set bounds for search space\n",
    "bounds = [(0, 2 * np.pi) for _ in range(2 * n_layers)]\n",
    "\n",
    "losses = []"
   ]
  },
  {
   "cell_type": "code",
   "execution_count": 6,
   "id": "bc524eef",
   "metadata": {},
   "outputs": [],
   "source": [
    "losses = []\n",
    "result = minimize(\n",
    "    cost_function,\n",
    "    init_values,\n",
    "    args=(device, circ, coeffs, losses, 0),  # shots=0\n",
    "    options={\"disp\": True, \"maxfev\": 150},\n",
    "    method=\"Nelder-Mead\",\n",
    "    # bounds=bounds, # optional, some optimizers can use bounds\n",
    ")"
   ]
  },
  {
   "cell_type": "code",
   "execution_count": null,
   "id": "16df2abe",
   "metadata": {},
   "outputs": [],
   "source": [
    "import matplotlib.pyplot as plt\n",
    "\n",
    "%matplotlib inline\n",
    "\n",
    "plt.plot(losses, \"-o\")\n",
    "plt.ylabel(\"Cost\")\n",
    "plt.xlabel(\"Iteration\")\n",
    "plt.title(\"QAOA convergence of cost function\")"
   ]
  },
  {
   "cell_type": "code",
   "execution_count": null,
   "id": "96992efa",
   "metadata": {},
   "outputs": [],
   "source": [
    "print(\n",
    "    f\"\"\"Estimated costs to run this example: \n",
    "    {tracker.simulator_tasks_cost()} USD (simulator) \n",
    "    {tracker.qpu_tasks_cost()} USD (QPU) \n",
    "\"\"\"\n",
    ")"
   ]
  },
  {
   "cell_type": "markdown",
   "id": "64478182",
   "metadata": {},
   "source": [
    "Note: Charges shown are estimates based on your Amazon Braket simulator and quantum processing unit (QPU) task usage. Estimated charges shown may differ from your actual charges. Estimated charges do not factor in any discounts or credits, and you may experience additional charges based on your use of other services such as Amazon Elastic Compute Cloud (Amazon EC2)."
   ]
  }
 ],
 "metadata": {
  "kernelspec": {
   "display_name": "Python 3.9.5 64-bit ('braket')",
   "language": "python",
   "name": "python3"
  },
  "language_info": {
   "codemirror_mode": {
    "name": "ipython",
    "version": 3
   },
   "file_extension": ".py",
   "mimetype": "text/x-python",
   "name": "python",
   "nbconvert_exporter": "python",
   "pygments_lexer": "ipython3",
   "version": "3.9.5"
  },
  "vscode": {
   "interpreter": {
    "hash": "5904cb9a2089448a2e1aeb5d493d227c9de33e591d7c07e4016fb81e71061a5d"
   }
  }
 },
 "nbformat": 4,
 "nbformat_minor": 5
}
