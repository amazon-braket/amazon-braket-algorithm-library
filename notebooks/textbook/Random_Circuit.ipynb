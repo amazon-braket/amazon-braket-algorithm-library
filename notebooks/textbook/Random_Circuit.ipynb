{
 "cells": [
  {
   "cell_type": "markdown",
   "metadata": {},
   "source": [
    "# Random Circuit\n",
    "Generates a random quantum circuit\n",
    "\n",
    "Random quantum circuits are important in quantum computing for several reasons:\n",
    "\n",
    "<u>Rapid Circuit Generation for Testing</u>\n",
    "\n",
    "Random quantum circuits are integral for quickly generating diverse and intricate test scenarios. This speed in creation allows for efficient and thorough testing of quantum computing systems, ensuring their readiness for complex tasks.\n",
    "\n",
    "<u> Enhancing Benchmarking and Hardware Evaluation</u>\n",
    "\n",
    "These circuits play a pivotal role in quantum benchmarking, providing a deeper and more accurate assessment of hardware quality and operational fidelity. This is crucial for ensuring that quantum systems meet the necessary standards for precision and reliability.\n",
    "\n",
    "<u> Comparing Quantum Architectures</u>\n",
    "\n",
    "These circuits enable objective and standardized comparisons across different quantum architectures. Such comparisons are fundamental to the advancement of quantum technology, ensuring that development is guided by accurate and impartial assessments.\n",
    "\n",
    "<u> Error Identification and System Optimization</u>\n",
    "\n",
    "By deploying random quantum circuits, it's possible to uncover error patterns and limitations within quantum hardware. This identification is key for continuous improvement and optimization of quantum computing systems.\n",
    "\n",
    "<u> Aiding Quantum Algorithm Development</u>\n",
    "\n",
    "Lastly, random quantum circuits are instrumental in the development and testing of quantum algorithms. They are particularly useful for algorithms that require diverse and complex configurations, making them an essential tool for advancing quantum computational research."
   ]
  },
  {
   "cell_type": "markdown",
   "metadata": {},
   "source": [
    "# Run on a local simulator"
   ]
  },
  {
   "cell_type": "code",
   "execution_count": 4,
   "metadata": {},
   "outputs": [
    {
     "name": "stdout",
     "output_type": "stream",
     "text": [
      "--Circuit--\n",
      "T  : | 0 |     1      |    2     |              3              |4| 5 | 6  |      7       |8|     9      |     10      |     11      |     12      |13|         14         |    15    | 16 |\n",
      "                                                                                                                                                                                           \n",
      "q0 : -C---C------------ZZ(0.19)---ZZ(4.77)---------------------------------ISWAP----------Y-Si-----------C-------------PHASE10(2.39)-H-----------------------------------------------------\n",
      "      |   |            |          |                                        |                             |             |                                                                   \n",
      "q1 : -|-I-|-GPi2(3.18)-|--------X-|--------MS(6.01, 2.11, 0.58)------------|-----------------------------PHASE01(4.86)-C-------------PHASE01(3.36)-I--MS(4.30, 5.30, 4.88)-Rx(4.12)---SWAP-\n",
      "      |   |            |        | |        |                               |                                                         |                |                               |    \n",
      "q2 : -V---|------------|--------|-ZZ(4.77)-|----------------------ECR-C----|-----YY(3.63)-V-ECR----------GPi2(4.41)------------------|----------------|-------------------------------|----\n",
      "          |            |        |          |                      |   |    |     |          |                                        |                |                               |    \n",
      "q3 : -----|------------ZZ(0.19)-|-Y--------|--------------------H-ECR-SWAP-ISWAP-|--------V-|---Rx(1.68)-----------------------------|----------------|-------------------------------SWAP-\n",
      "          |                     |          |                          |          |          |                                        |                |                                    \n",
      "q4 : -----Y---------------------C----------MS(6.01, 2.11, 0.58)-------SWAP-------YY(3.63)---ECR--------------------------------------C----------------MS(4.30, 5.30, 4.88)-GPi2(5.51)------\n",
      "\n",
      "T  : | 0 |     1      |    2     |              3              |4| 5 | 6  |      7       |8|     9      |     10      |     11      |     12      |13|         14         |    15    | 16 |\n",
      "\n",
      "--Counts--\n",
      "Counter({'11100': 24, '11110': 11, '11010': 10, '01100': 9, '11000': 9, '01101': 8, '01110': 8, '11101': 7, '11001': 5, '11011': 4, '11111': 3, '01011': 2})\n"
     ]
    }
   ],
   "source": [
    "from braket.devices import LocalSimulator\n",
    "from braket.experimental.algorithms.random_circuit import random_circuit\n",
    "\n",
    "\n",
    "# Code here\n",
    "local_simulator = LocalSimulator()\n",
    "circuit = random_circuit(num_qubits=5, num_gates=30, max_operands=3, seed=42)\n",
    "task = local_simulator.run(circuit, shots=100)\n",
    "result = task.result()\n",
    "print(\"--Circuit--\")\n",
    "print(circuit)\n",
    "print(\"\\n--Counts--\")\n",
    "print(result.measurement_counts)"
   ]
  },
  {
   "cell_type": "code",
   "execution_count": null,
   "metadata": {},
   "outputs": [],
   "source": []
  }
 ],
 "metadata": {
  "kernelspec": {
   "display_name": "Python 3 (ipykernel)",
   "language": "python",
   "name": "python3"
  },
  "language_info": {
   "codemirror_mode": {
    "name": "ipython",
    "version": 3
   },
   "file_extension": ".py",
   "mimetype": "text/x-python",
   "name": "python",
   "nbconvert_exporter": "python",
   "pygments_lexer": "ipython3",
   "version": "3.11.6"
  },
  "vscode": {
   "interpreter": {
    "hash": "5904cb9a2089448a2e1aeb5d493d227c9de33e591d7c07e4016fb81e71061a5d"
   }
  }
 },
 "nbformat": 4,
 "nbformat_minor": 4
}
