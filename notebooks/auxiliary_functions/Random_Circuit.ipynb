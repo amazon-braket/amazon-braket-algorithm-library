{
 "cells": [
  {
   "attachments": {},
   "cell_type": "markdown",
   "metadata": {},
   "source": [
    "# Random Circuit\n",
    "\n",
    "Generates random quantum circuits using the Amazon Braket SDK.\n",
    "\n",
    "### Circuit Generation for Testing\n",
    "\n",
    "Random quantum circuits allow creation of a diverse set of circuits with a variety of output probability distributions. Users can utilize random circuits to test performance of quantum simulators and QPUs. \n",
    "\n",
    "### Benchmarking quantum compilation stacks\n",
    "\n",
    "Random circuits sampled from a fixed gate set (as in the example below) are often used for benchmarking performance of quantum compilation passes, such as circuit mapping, routing, or circuit optimization passes. "
   ]
  },
  {
   "attachments": {},
   "cell_type": "markdown",
   "metadata": {},
   "source": [
    "# Run on a local simulator"
   ]
  },
  {
   "cell_type": "code",
   "execution_count": 1,
   "metadata": {},
   "outputs": [
    {
     "name": "stdout",
     "output_type": "stream",
     "text": [
      "--Circuit--\n",
      "T  : │        0         │        1         │        2         │        3         │     4      │     5      │     6      │  7  │       8       │        9         │        10        │     11     │      12       │\n",
      "                         ┌───┐              ┌──────────┐       ┌──────────┐       ┌──────────┐ ┌──────────┐ ┌──────────┐        ┌──────────┐   ┌──────────┐       ┌──────────┐                                    \n",
      "q0 : ───●────────────────┤ X ├──────────────┤ XY(0.19) ├───────┤ Rz(4.77) ├───────┤ Rz(0.58) ├─┤ XY(4.59) ├─┤ XY(0.50) ├───●────┤ Rz(5.37) ├───┤ Rz(1.44) ├───────┤ Rz(1.33) ├────────────────────────────────────\n",
      "        │                └─┬─┘              └────┬─────┘       └──────────┘       └──────────┘ └────┬─────┘ └────┬─────┘   │    └──────────┘   └──────────┘       └──────────┘                                    \n",
      "        │   ┌──────────┐   │   ┌──────────┐      │       ┌───┐ ┌──────────┐       ┌──────────┐      │            │       ┌─┴─┐ ┌─────────────┐              ┌───┐ ┌──────────┐       ┌──────────┐ ┌─────────────┐ \n",
      "q1 : ───┼───┤ Rx(0.88) ├───┼───┤ Rx(3.18) ├──────┼───────┤ X ├─┤ XY(2.82) ├───────┤ Rx(6.01) ├──────┼────────────┼───────┤ X ├─┤ PHASE(2.33) ├──────────────┤ X ├─┤ XY(2.90) ├───────┤ XY(4.12) ├─┤ PHASE(1.66) ├─\n",
      "        │   └──────────┘   │   └──────────┘      │       └─┬─┘ └────┬─────┘       └──────────┘      │            │       └───┘ └──────┬──────┘              └─┬─┘ └────┬─────┘       └────┬─────┘ └──────┬──────┘ \n",
      "      ┌─┴─┐                │                     │         │        │                          ┌────┴─────┐      │       ┌───┐        │        ┌──────────┐   │        │             ┌────┴─────┐        │        \n",
      "q2 : ─┤ X ├────────────────┼─────────────────────┼─────────┼────────┼─────────●────────────────┤ XY(4.59) ├──────┼───────┤ X ├────────●────────┤ Rx(4.41) ├───┼────────┼─────────●───┤ XY(4.12) ├────────┼────────\n",
      "      └───┘                │                     │         │        │         │                └──────────┘      │       └─┬─┘                 └──────────┘   │        │         │   └──────────┘        │        \n",
      "                           │                ┌────┴─────┐   │   ┌────┴─────┐   │   ┌──────────┐              ┌────┴─────┐   │                                  │        │       ┌─┴─┐                     │        \n",
      "q3 : ──────────────────────┼────────────────┤ XY(0.19) ├───┼───┤ XY(2.82) ├───┼───┤ Rx(2.14) ├──────────────┤ XY(0.50) ├───●──────────────────────────────────┼────────┼───────┤ X ├─────────────────────●────────\n",
      "                           │                └──────────┘   │   └──────────┘   │   └──────────┘              └──────────┘                                      │        │       └───┘                              \n",
      "                           │                               │                ┌─┴─┐ ┌──────────┐ ┌──────────┐                                                   │   ┌────┴─────┐       ┌──────────┐  ┌──────────┐   \n",
      "q4 : ──────────────────────●───────────────────────────────●────────────────┤ X ├─┤ Rz(5.56) ├─┤ Rz(1.21) ├───────────────────────────────────────────────────●───┤ XY(2.90) ├───────┤ Rz(1.38) ├──┤ Rx(3.39) ├───\n",
      "                                                                            └───┘ └──────────┘ └──────────┘                                                       └──────────┘       └──────────┘  └──────────┘   \n",
      "T  : │        0         │        1         │        2         │        3         │     4      │     5      │     6      │  7  │       8       │        9         │        10        │     11     │      12       │\n",
      "\n",
      "--Counts--\n",
      "Counter({'01011': 34, '00011': 21, '00001': 13, '00111': 10, '01001': 10, '01010': 3, '00000': 2, '00101': 2, '01000': 2, '10000': 1, '00010': 1, '11010': 1})\n"
     ]
    }
   ],
   "source": [
    "from braket.circuits.gates import CNot, Rx, Rz, CPhaseShift, XY\n",
    "from braket.devices import LocalSimulator\n",
    "from braket.experimental.auxiliary_functions import random_circuit\n",
    "\n",
    "# Code here\n",
    "local_simulator = LocalSimulator()\n",
    "gate_set = [CNot, Rx, Rz, CPhaseShift, XY]\n",
    "circuit = random_circuit(num_qubits=5, \n",
    "                         num_gates=30,\n",
    "                         gate_set=gate_set,\n",
    "                         seed=42)\n",
    "task = local_simulator.run(circuit, shots=100)\n",
    "result = task.result()\n",
    "print(\"--Circuit--\")\n",
    "print(circuit)\n",
    "print(\"\\n--Counts--\")\n",
    "print(result.measurement_counts)"
   ]
  }
 ],
 "metadata": {
  "kernelspec": {
   "display_name": "Python 3 (ipykernel)",
   "language": "python",
   "name": "python3"
  },
  "language_info": {
   "codemirror_mode": {
    "name": "ipython",
    "version": 3
   },
   "file_extension": ".py",
   "mimetype": "text/x-python",
   "name": "python",
   "nbconvert_exporter": "python",
   "pygments_lexer": "ipython3",
   "version": "3.11.4"
  },
  "vscode": {
   "interpreter": {
    "hash": "5904cb9a2089448a2e1aeb5d493d227c9de33e591d7c07e4016fb81e71061a5d"
   }
  }
 },
 "nbformat": 4,
 "nbformat_minor": 4
}
