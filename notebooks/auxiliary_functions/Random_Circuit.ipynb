{
 "cells": [
  {
   "attachments": {},
   "cell_type": "markdown",
   "metadata": {},
   "source": [
    "# Random Circuit\n",
    "Generates a random quantum circuit\n",
    "\n",
    "<u>Circuit Generation for Testing</u>\n",
    "\n",
    "Random quantum circuit generator allows creation of a diverse set of circuits with a variety of output probability distributions. Users can utilize random circuits to test performance of quantum simulators and QPUs. \n",
    "\n",
    "<u> Benchmarking quantum compilation stacks</u>\n",
    "\n",
    "Random circuits sampled from a fixed gates set (as in the example below) are often used for benchmarking performance of quantum compilation passes: circuit mapping / routing and circuit optimization passes. "
   ]
  },
  {
   "attachments": {},
   "cell_type": "markdown",
   "metadata": {},
   "source": [
    "# Run on a local simulator"
   ]
  },
  {
   "cell_type": "code",
   "execution_count": null,
   "metadata": {},
   "outputs": [],
   "source": [
    "from braket.devices import LocalSimulator\n",
    "from braket.experimental.auxiliary_functions.random_circuit import random_circuit\n",
    "from braket.circuits.gates import CNot, Rx, Rz, CPhaseShift, XY\n",
    "\n",
    "# Code here\n",
    "local_simulator = LocalSimulator()\n",
    "gate_set = [CNot, Rx, Rz, CPhaseShift, XY]\n",
    "circuit = random_circuit(num_qubits=5, \n",
    "                         num_gates=30,\n",
    "                         gate_set=gate_set,\n",
    "                         seed=42)\n",
    "task = local_simulator.run(circuit, shots=100)\n",
    "result = task.result()\n",
    "print(\"--Circuit--\")\n",
    "print(circuit)\n",
    "print(\"\\n--Counts--\")\n",
    "print(result.measurement_counts)"
   ]
  },
  {
   "cell_type": "code",
   "execution_count": null,
   "metadata": {},
   "outputs": [],
   "source": []
  }
 ],
 "metadata": {
  "kernelspec": {
   "display_name": "Python 3 (ipykernel)",
   "language": "python",
   "name": "python3"
  },
  "language_info": {
   "codemirror_mode": {
    "name": "ipython",
    "version": 3
   },
   "file_extension": ".py",
   "mimetype": "text/x-python",
   "name": "python",
   "nbconvert_exporter": "python",
   "pygments_lexer": "ipython3",
   "version": "3.11.6"
  },
  "vscode": {
   "interpreter": {
    "hash": "5904cb9a2089448a2e1aeb5d493d227c9de33e591d7c07e4016fb81e71061a5d"
   }
  }
 },
 "nbformat": 4,
 "nbformat_minor": 4
}
