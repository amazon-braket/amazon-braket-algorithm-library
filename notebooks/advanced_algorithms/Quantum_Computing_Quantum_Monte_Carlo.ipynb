{
 "cells": [
  {
   "cell_type": "markdown",
   "id": "ea3f4d79",
   "metadata": {},
   "source": [
    "# Quantum Computing Quantum Monte Carlo: ground state energy of H$_2$\n",
    "\n",
    "In this notebook, we demonstrate how to augment classical QMC calculations using quantum computers (QC) using auxiliary-field QMC (AFQMC) [1]. Compared to the variational quantum eigensolver (VQE) [2], a popular quantum algorithm for solving the electronic structure problem, QC‑AFQMC does not require an expensive optimization loop. The circuit depth of both methods is similar. This notebook presents an example AFQMC calculation to find the ground state of H$_2$ molecule. The code can be run on both classical simulators and quantum computers. For more details about the algorithm, see this [example notebook](https://github.com/aws/amazon-braket-examples/blob/feature/quantum-monte-carlo/examples/hybrid_quantum_algorithms/Quantum_Monte_Carlo_Chemistry/Quantum_Monte_Carlo_Chemistry.ipynb) in Amazon Braket Examples.\n",
    "\n",
    "\n",
    "[1] Motta, Mario, and Shiwei Zhang. \"Ab initio computations of molecular systems by the auxiliary‐field quantum Monte Carlo method.\" [Wiley Interdisciplinary Reviews: Computational Molecular Science 8.5 (2018): e1364](https://doi.org/10.1002/wcms.1364).\n",
    "\n",
    "[2] Peruzzo, Alberto, et al. \"A variational eigenvalue solver on a photonic quantum processor.\" [Nature Communications 5.1 (2014): 1-7](https://www.nature.com/articles/ncomms5213?ref=https://githubhelp.com).\n",
    "\n",
    "<div class=\"alert alert-block alert-info\">\n",
    "<b>Note:</b> The code in this notebook has option to use multiprocessing for computations. A notebook instance with multiple CPU cores is required to use multiprocessing. With a ml.m5.24xlarge notebook instance, the code takes about 6 minutes in total to run in this notebook, which will incur charge for about \\$0.6 USD. The notebook also creates a Braket job to compute a scaled-up QMC workload that takes about 30 minutes with a ml.m5.24xlarge job instance, which will incur charge for about \\$2.8 USD.\n",
    "</div>"
   ]
  },
  {
   "cell_type": "code",
   "execution_count": 1,
   "id": "48def801",
   "metadata": {},
   "outputs": [],
   "source": [
    "import os\n",
    "import time\n",
    "\n",
    "import numpy as np\n",
    "import pennylane as qml\n",
    "from braket.experimental.algorithms.qc_qmc.classical_afqmc import chemistry_preparation, greens_pq, local_energy\n",
    "from braket.experimental.algorithms.qc_qmc.qc_qmc import qc_qmc\n",
    "from pyscf import fci, gto\n",
    "\n",
    "np.set_printoptions(precision=4, edgeitems=10, linewidth=150, suppress=True)"
   ]
  },
  {
   "cell_type": "markdown",
   "id": "aabc6167",
   "metadata": {},
   "source": [
    "## Prepare the operators for AFQMC calculations of the ground state of H$_2$\n",
    "\n",
    "Here we demonstrate the performance of the quantum assisted AFQMC algorithm on the example of H$_2$ molecule. We begin by preparing the Hamiltonian of the H$_2$ molecule, and determining the energy of a classical trial state corresponding to the Hartree-Fock state."
   ]
  },
  {
   "cell_type": "code",
   "execution_count": 2,
   "id": "6dc685ec",
   "metadata": {},
   "outputs": [
    {
     "name": "stdout",
     "output_type": "stream",
     "text": [
      "converged SCF energy = -1.1161514489386\n",
      "The Hartree-Fock energy computed from local_energy is -1.1161514489.\n"
     ]
    }
   ],
   "source": [
    "from braket.experimental.algorithms.qc_qmc.classical_afqmc import chemistry_preparation, greens_pq, local_energy\n",
    "from pyscf import fci, gto, scf\n",
    "\n",
    "# perform HF calculations\n",
    "mol = gto.M(atom=\"H 0. 0. 0.; H 0. 0. 0.75\", basis=\"sto-3g\")\n",
    "hf = mol.RHF()\n",
    "hf.kernel()\n",
    "\n",
    "# perform full configuration interaction (FCI) calculations\n",
    "myci = fci.FCI(hf)\n",
    "myci.kernel()\n",
    "\n",
    "trial = np.array([[1, 0], [0, 1], [0, 0], [0, 0]])\n",
    "prop = chemistry_preparation(mol, hf, trial)\n",
    "\n",
    "\n",
    "# Separate the spin up and spin down channel of the trial state\n",
    "trial_up = trial[::2, ::2]\n",
    "trial_down = trial[1::2, 1::2]\n",
    "\n",
    "# compute its one particle Green's function\n",
    "G = [greens_pq(trial_up, trial_up), greens_pq(trial_down, trial_down)]\n",
    "Ehf = local_energy(prop.h1e, prop.eri, G, prop.nuclear_repulsion)\n",
    "print(f\"The Hartree-Fock energy computed from local_energy is {np.round(Ehf, 10)}.\")"
   ]
  },
  {
   "cell_type": "markdown",
   "id": "3f9deedb",
   "metadata": {},
   "source": [
    "### Run Quantum AFQMC on local simulator\n",
    "\n",
    "Now, We are ready to carry out the QAEE calculation in the next two cells and find the ground state of H$_2$.\n",
    "\n",
    "<div class=\"alert alert-block alert-info\">\n",
    "<b>Note:</b> The following cell of quantum AFQMC calculation will take  about 5 mins with 48 core parallelization. You may need to execute the notebook on a notebook instance with 48 or more CPU cores to utilize 48 core parallelization. We executed this notebook on a m5.24xlarge instance.\n",
    "</div>"
   ]
  },
  {
   "cell_type": "code",
   "execution_count": 5,
   "id": "7c534bab",
   "metadata": {},
   "outputs": [],
   "source": [
    "from braket.experimental.algorithms.qc_qmc.qc_qmc import qc_qmc\n",
    "\n",
    "dtau = 0.005\n",
    "num_steps = 10\n",
    "num_walkers = 100\n",
    "quantum_evaluations_every_n_steps = 50\n",
    "\n",
    "dev = qml.device(\"lightning.qubit\", wires=4)"
   ]
  },
  {
   "cell_type": "code",
   "execution_count": 6,
   "id": "de04f775",
   "metadata": {},
   "outputs": [
    {
     "name": "stdout",
     "output_type": "stream",
     "text": [
      "CPU times: user 67.5 ms, sys: 227 ms, total: 295 ms\n",
      "Wall time: 2.41 s\n"
     ]
    }
   ],
   "source": [
    "%%time\n",
    "\n",
    "quantum_energies, energies = qc_qmc(\n",
    "    num_walkers,\n",
    "    num_steps,\n",
    "    dtau,\n",
    "    quantum_evaluations_every_n_steps,\n",
    "    trial,\n",
    "    prop,\n",
    "    max_pool=48,\n",
    "    dev=dev,\n",
    ")"
   ]
  },
  {
   "cell_type": "code",
   "execution_count": 7,
   "id": "93d1bf49",
   "metadata": {},
   "outputs": [
    {
     "data": {
      "image/png": "[encoded data removed]",
      "text/plain": [
       "<Figure size 640x480 with 1 Axes>"
      ]
     },
     "metadata": {},
     "output_type": "display_data"
    }
   ],
   "source": [
    "import matplotlib.pyplot as plt\n",
    "\n",
    "%matplotlib inline\n",
    "plt.plot(\n",
    "    dtau * np.arange(num_steps),\n",
    "    energies,\n",
    "    linestyle=\"dashed\",\n",
    "    marker=\".\",\n",
    "    color=\"tab:blue\",\n",
    "    linewidth=0,\n",
    "    label=\"classical\",\n",
    ")\n",
    "plt.plot(\n",
    "    dtau * np.arange(0, num_steps, quantum_evaluations_every_n_steps),\n",
    "    quantum_energies,\n",
    "    linestyle=\"dashed\",\n",
    "    marker=\"o\",\n",
    "    color=\"tab:orange\",\n",
    "    linewidth=1,\n",
    "    label=\"quantum\",\n",
    ")\n",
    "plt.axhline(-1.137117067345732, linestyle=\"dashed\", color=\"black\")\n",
    "plt.title(r\"Ground state estimation of H$_2$ using AFQMC\", fontsize=16)\n",
    "plt.legend(fontsize=14, loc=\"upper right\")\n",
    "plt.xlabel(r\"$\\tau$\", fontsize=16)\n",
    "plt.ylabel(\"Energy\", fontsize=16)\n",
    "plt.yticks(fontsize=14)\n",
    "plt.tick_params(direction=\"in\")\n",
    "plt.show()"
   ]
  },
  {
   "cell_type": "markdown",
   "id": "0e6457bd",
   "metadata": {},
   "source": [
    "In the plot, the computed ground-state energy of the H$_2$ molecule against imaginary time $\\tau$ above, the blue curve labeled \"classical\" denotes the ground-state energy computed by using the classical trial state, i.e., the Hartree-Fock state. The orange curve labeled \"quantum\" denotes the ground-state energy computed using the QAEE-AFQMC algorithm on the PennyLane Simulator. The black dashed line represents the true ground state energy. We see that both classical and quantum methods converge to the correct value. However, the energies computed using QAEE-AFQMC have a smaller variance, demonstrating one of the main benefits of this approach."
   ]
  }
 ],
 "metadata": {
  "kernelspec": {
   "display_name": "conda_braket",
   "language": "python",
   "name": "conda_braket"
  },
  "language_info": {
   "codemirror_mode": {
    "name": "ipython",
    "version": 3
   },
   "file_extension": ".py",
   "mimetype": "text/x-python",
   "name": "python",
   "nbconvert_exporter": "python",
   "pygments_lexer": "ipython3",
   "version": "3.7.13"
  },
  "vscode": {
   "interpreter": {
    "hash": "5904cb9a2089448a2e1aeb5d493d227c9de33e591d7c07e4016fb81e71061a5d"
   }
  }
 },
 "nbformat": 4,
 "nbformat_minor": 5
}
