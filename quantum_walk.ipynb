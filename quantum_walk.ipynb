{
 "cells": [
  {
   "cell_type": "markdown",
   "id": "c5524682",
   "metadata": {},
   "source": [
    "# Quantum walk\n",
    "\n",
    "nice description\n",
    "\n"
   ]
  },
  {
   "cell_type": "markdown",
   "id": "4d36ba3f",
   "metadata": {},
   "source": [
    "# References\n",
    "\n",
    "[Quantum Algorithm Implementations for Beginners](https://arxiv.org/abs/1804.03719)\n",
    "\n",
    "[Quantum arithmetic with the Quantum Fourier Transform](https://arxiv.org/abs/1411.5949)\n"
   ]
  },
  {
   "cell_type": "markdown",
   "id": "3a4df84f",
   "metadata": {},
   "source": [
    "We start by importing the necessary functions"
   ]
  },
  {
   "cell_type": "code",
   "execution_count": 5,
   "id": "6e5ec8f7",
   "metadata": {},
   "outputs": [],
   "source": [
    "from braket.devices import LocalSimulator\n",
    "from braket.aws import AwsDevice\n",
    "\n",
    "import numpy as np\n",
    "\n",
    "from quantum_walk import run_quantum_walk, quantum_walk, plot_bitstrings"
   ]
  },
  {
   "cell_type": "markdown",
   "id": "bd689dd2",
   "metadata": {},
   "source": [
    "# Quantum walk on a graph with four nodes\n",
    "\n",
    "nice words"
   ]
  },
  {
   "cell_type": "code",
   "execution_count": 2,
   "id": "f9d753bd",
   "metadata": {},
   "outputs": [],
   "source": [
    "quantum_walk_circuit_4_nodes_1_step = quantum_walk(4, 1)\n",
    "quantum_walk_circuit_4_nodes_4_steps = quantum_walk(4, 4)"
   ]
  },
  {
   "cell_type": "markdown",
   "id": "79064b7a",
   "metadata": {},
   "source": [
    "# Run the quantum walk on a local simulator"
   ]
  },
  {
   "cell_type": "code",
   "execution_count": 3,
   "id": "cf274bd6",
   "metadata": {},
   "outputs": [],
   "source": [
    "local_sim = LocalSimulator()\n",
    "counts_4_nodes_1_step_sim = run_quantum_walk(quantum_walk_circuit_4_nodes_1_step, local_sim)\n",
    "counts_4_nodes_4_steps_sim = run_quantum_walk(quantum_walk_circuit_4_nodes_4_steps, local_sim)"
   ]
  },
  {
   "cell_type": "code",
   "execution_count": 17,
   "id": "ea6b1c25",
   "metadata": {},
   "outputs": [
    {
     "data": {
      "image/png": "[encoded data removed]",
      "text/plain": [
       "<Figure size 432x288 with 1 Axes>"
      ]
     },
     "metadata": {
      "needs_background": "light"
     },
     "output_type": "display_data"
    }
   ],
   "source": [
    "plot_bitstrings(counts_4_nodes_4_steps_sim[\"quantum_walk_measurement_counts\"])"
   ]
  },
  {
   "cell_type": "code",
   "execution_count": 18,
   "id": "1c3fad2e",
   "metadata": {},
   "outputs": [
    {
     "data": {
      "image/png": "[encoded data removed]",
      "text/plain": [
       "<Figure size 432x288 with 1 Axes>"
      ]
     },
     "metadata": {
      "needs_background": "light"
     },
     "output_type": "display_data"
    }
   ],
   "source": [
    "plot_bitstrings(counts_4_nodes_1_step_sim[\"quantum_walk_measurement_counts\"])"
   ]
  },
  {
   "cell_type": "markdown",
   "id": "68b00402",
   "metadata": {},
   "source": [
    "# Run the quantum walk on a QPU\n",
    "\n",
    "Include estimated price for running in USD.\n"
   ]
  },
  {
   "cell_type": "code",
   "execution_count": null,
   "id": "d8d7c3f3",
   "metadata": {},
   "outputs": [],
   "source": [
    "qpu = AwsDevice(\"arn:aws:braket:us-west-1::device/qpu/rigetti/Aspen-M-2\")\n",
    "counts_4_nodes_1_step_sim = run_quantum_walk(quantum_walk_circuit_4_nodes_1_step, qpu)\n",
    "counts_4_nodes_4_steps_sim = run_quantum_walk(quantum_walk_circuit_4_nodes_4_steps, qpu)"
   ]
  },
  {
   "cell_type": "code",
   "execution_count": null,
   "id": "a19a546e",
   "metadata": {},
   "outputs": [],
   "source": [
    "print(\n",
    "    f\"Estimated cost to run this example: {tracker.qpu_tasks_cost() + tracker.simulator_tasks_cost():.2f} USD\"\n",
    ")"
   ]
  },
  {
   "cell_type": "markdown",
   "id": "4a7484c3",
   "metadata": {},
   "source": [
    "Note: Charges shown are estimates based on your Amazon Braket simulator and quantum processing unit (QPU) task usage. Estimated charges shown may differ from your actual charges. Estimated charges do not factor in any discounts or credits, and you may experience additional charges based on your use of other services such as Amazon Elastic Compute Cloud (Amazon EC2)."
   ]
  },
  {
   "cell_type": "markdown",
   "id": "4fc1f528",
   "metadata": {},
   "source": [
    "# Appendix: QFT based adder"
   ]
  },
  {
   "cell_type": "code",
   "execution_count": 22,
   "id": "5e0640d8",
   "metadata": {},
   "outputs": [],
   "source": [
    "from quantum_walk import qft\n",
    "from braket.circuits import Circuit\n",
    "\n",
    "\n",
    "def qft_add(num_qubits: int, const: int):\n",
    "    \n",
    "    qc = Circuit()\n",
    "\n",
    "    N = num_qubits-1\n",
    "\n",
    "    bin_const = [int(x) for x in bin(abs(const))[2:]] # Big endian\n",
    "    bin_const = [0]*(N-len(bin_const)) + bin_const\n",
    "\n",
    "    \n",
    "    for n in range(1, N+1):\n",
    "        if bin_const[n-1]:\n",
    "            qc.phaseshift(N, np.sign(const) * 2*np.pi / 2**(n+1))\n",
    "\n",
    "    for i in range(1, N+1):\n",
    "        for n in range(N-i+1):\n",
    "            if bin_const[n+i-1]:\n",
    "                qc.phaseshift(N-i, np.sign(const) * 2*np.pi / 2**(n+1))\n",
    "\n",
    "    return qc\n",
    "\n",
    "def qft_adder(a, b, num_qubits):\n",
    "    qc = Circuit()\n",
    "\n",
    "    # Step 1: Encode the number a into the qr_data register\n",
    "    binary_a = bin(abs(a))[2:]\n",
    "    for i, bit in enumerate(reversed(binary_a)):\n",
    "        if bit == '1':\n",
    "            qc.x(i)\n",
    "    \n",
    "    # Step 2: Apply Quantum Fourier Transform\n",
    "    qc.add_circuit(qft(num_qubits))\n",
    "    \n",
    "    # Step 3: Add the number b using QFT adder\n",
    "    qc.add_circuit(qft_add(num_qubits, b))\n",
    "    \n",
    "    # Step 4: Apply Inverse Fourier Transform\n",
    "    qc.add_circuit(qft(num_qubits, inverse=True))\n",
    "    \n",
    "    return qc\n",
    "\n"
   ]
  },
  {
   "cell_type": "code",
   "execution_count": 24,
   "id": "3a282d43",
   "metadata": {
    "scrolled": true
   },
   "outputs": [],
   "source": [
    "device = LocalSimulator()\n",
    "def test_qft_adder(a, b, num_qubits):\n",
    "    \"\"\" Calculate a + b using the QFT adder. \"\"\"\n",
    "    \n",
    "    qc = qft_adder(a, b, num_qubits)\n",
    "    result = device.run(qc, shots=1000).result()\n",
    "    counts = result.measurement_counts\n",
    "    \n",
    "    # Make sure the measurement outcome corresponds to the addition a+b\n",
    "    values = np.asarray([int(v[::-1], 2) for v in counts.keys()])\n",
    "    \n",
    "    counts = np.asarray(list(counts.values()))\n",
    "    c = values[np.argmax(counts)]\n",
    "    assert np.mod(a+b-c, 2**num_qubits) == 0\n",
    "    \n",
    "\n",
    "test_qft_adder(5, 3, 4)\n",
    "test_qft_adder(4, 5, 5)\n",
    "test_qft_adder(1, 0, 2)\n",
    "\n",
    "test_qft_adder(5, -3, 4)\n",
    "test_qft_adder(5, -2, 4)\n",
    "test_qft_adder(1, 0, 2)\n",
    "\n",
    "n = 4\n",
    "for i in range(2**n):\n",
    "    test_qft_adder(i, 2, n)\n",
    "    test_qft_adder(i, -1, n)    "
   ]
  },
  {
   "cell_type": "code",
   "execution_count": null,
   "id": "b9d14652",
   "metadata": {},
   "outputs": [],
   "source": []
  }
 ],
 "metadata": {
  "kernelspec": {
   "display_name": "Python 3 (ipykernel)",
   "language": "python",
   "name": "python3"
  },
  "language_info": {
   "codemirror_mode": {
    "name": "ipython",
    "version": 3
   },
   "file_extension": ".py",
   "mimetype": "text/x-python",
   "name": "python",
   "nbconvert_exporter": "python",
   "pygments_lexer": "ipython3",
   "version": "3.9.7"
  },
  "varInspector": {
   "cols": {
    "lenName": 16,
    "lenType": 16,
    "lenVar": 40
   },
   "kernels_config": {
    "python": {
     "delete_cmd_postfix": "",
     "delete_cmd_prefix": "del ",
     "library": "var_list.py",
     "varRefreshCmd": "print(var_dic_list())"
    },
    "r": {
     "delete_cmd_postfix": ") ",
     "delete_cmd_prefix": "rm(",
     "library": "var_list.r",
     "varRefreshCmd": "cat(var_dic_list()) "
    }
   },
   "types_to_exclude": [
    "module",
    "function",
    "builtin_function_or_method",
    "instance",
    "_Feature"
   ],
   "window_display": false
  }
 },
 "nbformat": 4,
 "nbformat_minor": 5
}
