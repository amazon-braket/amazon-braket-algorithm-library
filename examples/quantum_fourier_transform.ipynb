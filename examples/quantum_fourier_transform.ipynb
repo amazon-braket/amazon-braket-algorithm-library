{
 "cells": [
  {
   "cell_type": "markdown",
   "id": "b7b21320",
   "metadata": {},
   "source": [
    "# Quantum Fourier Transform\n",
    "\n",
    "The QFT is an important subroutine to many quantum algorithms, most famously Shor's algorithm for factoring and the quantum phase estimation (QPE) algorithm for estimating the eigenvalues of a unitary operator [1, 2]. The QFT can be performed efficiently on a quantum computer, using only\n",
    "single-qubit Hadamard gates and two-qubit controlled phase shift gates, where is the number of qubits. We first review the basics of the quantum Fourier transform, and its relation to the discrete (classical) Fourier transform. We then implement the QFT in code two ways: recursively and non-recursively. \n",
    "\n",
    "## Reference\n",
    "\n",
    "[1] Wikipedia: https://en.wikipedia.org/wiki/Quantum_Fourier_transform\n",
    "\n",
    "[2] Nielsen, Michael A., Chuang, Isaac L. (2010). Quantum Computation and Quantum Information (2nd ed.). Cambridge: Cambridge University Press."
   ]
  },
  {
   "cell_type": "code",
   "execution_count": 1,
   "id": "865f8bf5",
   "metadata": {},
   "outputs": [],
   "source": [
    "from braket.experimental.algorithms.quantum_fourier_transform import quantum_fourier_transform as qft\n",
    "\n",
    "from braket.devices import LocalSimulator\n",
    "from braket.circuits import Circuit\n",
    "import matplotlib.pyplot as plt\n",
    "import numpy as np"
   ]
  },
  {
   "cell_type": "markdown",
   "id": "1991c703",
   "metadata": {},
   "source": [
    "# Circuits"
   ]
  },
  {
   "cell_type": "code",
   "execution_count": 2,
   "id": "e040b503",
   "metadata": {
    "scrolled": true
   },
   "outputs": [
    {
     "name": "stdout",
     "output_type": "stream",
     "text": [
      "T  : |0|     1     |      2      |           3           |      4      |     5     | 6  | 7  |\n",
      "                                                                                              \n",
      "q0 : -H-PHASE(1.57)-PHASE(0.79)---PHASE(0.39)--------------------------------------------SWAP-\n",
      "        |           |             |                                                      |    \n",
      "q1 : ---C-----------|-----------H-|-----------PHASE(1.57)-PHASE(0.79)---------------SWAP-|----\n",
      "                    |             |           |           |                         |    |    \n",
      "q2 : ---------------C-------------|-----------C-----------|-----------H-PHASE(1.57)-SWAP-|----\n",
      "                                  |                       |             |                |    \n",
      "q3 : -----------------------------C-----------------------C-------------C-----------H----SWAP-\n",
      "\n",
      "T  : |0|     1     |      2      |           3           |      4      |     5     | 6  | 7  |\n"
     ]
    }
   ],
   "source": [
    "n_qubits = 4\n",
    "circuit = qft.quantum_fourier_transform(4)\n",
    "print(circuit)"
   ]
  },
  {
   "cell_type": "code",
   "execution_count": 3,
   "id": "a6a27639",
   "metadata": {
    "scrolled": true
   },
   "outputs": [
    {
     "name": "stdout",
     "output_type": "stream",
     "text": [
      "T  : |    0    |1|     2      |      3       |            4            |      5       |     6      |7|\n",
      "                                                                                                      \n",
      "q0 : -SWAP-------------------------------------------------PHASE(-0.39)---PHASE(-0.79)-PHASE(-1.57)-H-\n",
      "      |                                                    |              |            |              \n",
      "q1 : -|----SWAP------------------PHASE(-0.79)-PHASE(-1.57)-|------------H-|------------C--------------\n",
      "      |    |                     |            |            |              |                           \n",
      "q2 : -|----SWAP---PHASE(-1.57)-H-|------------C------------|--------------C---------------------------\n",
      "      |           |              |                         |                                          \n",
      "q3 : -SWAP------H-C--------------C-------------------------C------------------------------------------\n",
      "\n",
      "T  : |    0    |1|     2      |      3       |            4            |      5       |     6      |7|\n"
     ]
    }
   ],
   "source": [
    "circuit = qft.inverse_quantum_fourier_transform(4)\n",
    "print(circuit)"
   ]
  },
  {
   "cell_type": "markdown",
   "id": "6fe50dcb",
   "metadata": {},
   "source": [
    "# Local Simulator"
   ]
  },
  {
   "cell_type": "code",
   "execution_count": 7,
   "id": "d778ebf4",
   "metadata": {},
   "outputs": [],
   "source": [
    "n_qubits = 4\n",
    "n_shots = 1000"
   ]
  },
  {
   "cell_type": "markdown",
   "id": "0186b9ab",
   "metadata": {},
   "source": [
    "## Example 1"
   ]
  },
  {
   "cell_type": "code",
   "execution_count": 8,
   "id": "a8904721",
   "metadata": {
    "scrolled": true
   },
   "outputs": [
    {
     "data": {
      "image/png": "[encoded data removed]",
      "text/plain": [
       "<Figure size 432x288 with 1 Axes>"
      ]
     },
     "metadata": {
      "needs_background": "light"
     },
     "output_type": "display_data"
    }
   ],
   "source": [
    "state_prep_cir = Circuit() \n",
    "\n",
    "result = qft.run_quantum_fourier_transform(\n",
    "    n_qubits,\n",
    "    n_shots,\n",
    "    state_prep_cir=Circuit(), \n",
    "    doInverse=False,\n",
    "    device=LocalSimulator()\n",
    ")\n",
    "\n",
    "qft.postprocess_qft_results(result)"
   ]
  },
  {
   "cell_type": "markdown",
   "id": "edc705a9",
   "metadata": {},
   "source": [
    "## Example 2"
   ]
  },
  {
   "cell_type": "code",
   "execution_count": 9,
   "id": "ccfd12f8",
   "metadata": {
    "scrolled": true
   },
   "outputs": [
    {
     "data": {
      "image/png": "[encoded data removed]",
      "text/plain": [
       "<Figure size 432x288 with 1 Axes>"
      ]
     },
     "metadata": {
      "needs_background": "light"
     },
     "output_type": "display_data"
    }
   ],
   "source": [
    "state_prep_cir = Circuit() \n",
    "\n",
    "#try changing to another qubit\n",
    "h_tgt=2\n",
    "\n",
    "result = qft.run_quantum_fourier_transform(\n",
    "    n_qubits,\n",
    "    nshots,\n",
    "    state_prep_cir=Circuit().h(h_tgt), \n",
    "    doInverse=False,device=LocalSimulator()\n",
    ")\n",
    "\n",
    "qft.postprocess_qft_results(result)"
   ]
  },
  {
   "cell_type": "markdown",
   "id": "d3c380c3",
   "metadata": {},
   "source": [
    "## Example 3"
   ]
  },
  {
   "cell_type": "code",
   "execution_count": 33,
   "id": "623f2d8a",
   "metadata": {},
   "outputs": [
    {
     "data": {
      "image/png": "[encoded data removed]",
      "text/plain": [
       "<Figure size 640x480 with 1 Axes>"
      ]
     },
     "metadata": {},
     "output_type": "display_data"
    }
   ],
   "source": [
    "circ = Circuit()\n",
    "qubits=range(n_qubits)\n",
    "circ.h(qubits)\n",
    "for ii in range(n_qubits - 1):\n",
    "    circ.rz(ii+1, np.pi/(2**ii))\n",
    "    \n",
    "result = qft.run_quantum_fourier_transform(\n",
    "    n_qubits,\n",
    "    n_shots,\n",
    "    state_prep_cir=circ, \n",
    "    doInverse=True,\n",
    "    device=LocalSimulator()\n",
    ")\n",
    "\n",
    "qft.postprocess_qft_results(result)"
   ]
  },
  {
   "cell_type": "markdown",
   "id": "e6c75a51",
   "metadata": {},
   "source": [
    "# Quantum devices"
   ]
  },
  {
   "cell_type": "markdown",
   "id": "23ee0bd2",
   "metadata": {},
   "source": [
    "## Oxford QC Lucy"
   ]
  },
  {
   "cell_type": "code",
   "execution_count": 34,
   "id": "e6109e88",
   "metadata": {},
   "outputs": [],
   "source": [
    "from braket.aws import AwsDevice\n",
    "from braket.tracking import Tracker\n",
    "\n",
    "t = Tracker().start()\n",
    "\n",
    "device = AwsDevice('arn:aws:braket:eu-west-2::device/qpu/oqc/Lucy')                   #OQC Lucy\n",
    "# device = AwsDevice('arn:aws:braket:::device/qpu/ionq/ionQdevice')                     #IonQ\n",
    "# device = AwsDevice('arn:aws:braket:::device/qpu/rigetti/Aspen-11')                    #Rigetti Aspen-11\n",
    "# device = AwsDevice('arn:aws:braket:us-west-1::device/qpu/rigetti/Aspen-M-2')          #Rigetti Aspen M-2"
   ]
  },
  {
   "cell_type": "markdown",
   "id": "a28283ce",
   "metadata": {},
   "source": [
    "## Example 1"
   ]
  },
  {
   "cell_type": "code",
   "execution_count": null,
   "id": "0bef7d2d",
   "metadata": {
    "scrolled": true
   },
   "outputs": [],
   "source": [
    "state_prep_cir = Circuit() \n",
    "\n",
    "result = qft.run_quantum_fourier_transform(\n",
    "    nqubit,\n",
    "    nshots,\n",
    "    state_prep_cir=Circuit(), \n",
    "    doInverse=False,device=device\n",
    ")\n",
    "\n",
    "qft.postprocess_qft_results(result)"
   ]
  },
  {
   "cell_type": "markdown",
   "id": "6c11dc46",
   "metadata": {},
   "source": [
    "## Example 2"
   ]
  },
  {
   "cell_type": "code",
   "execution_count": null,
   "id": "26030bda",
   "metadata": {
    "scrolled": true
   },
   "outputs": [],
   "source": [
    "state_prep_cir = Circuit() \n",
    "\n",
    "#try changing to another qubit\n",
    "h_tgt=2\n",
    "\n",
    "result = qft.run_quantum_fourier_transform(\n",
    "    nqubit,\n",
    "    nshots,\n",
    "    state_prep_cir=Circuit().h(h_tgt), \n",
    "    doInverse=False,\n",
    "    device=device\n",
    ")\n",
    "\n",
    "qft.postprocess_qft_results(result)"
   ]
  },
  {
   "cell_type": "markdown",
   "id": "94558d07",
   "metadata": {},
   "source": [
    "## Example 3"
   ]
  },
  {
   "cell_type": "code",
   "execution_count": null,
   "id": "26b846e7",
   "metadata": {
    "scrolled": true
   },
   "outputs": [],
   "source": [
    "circ = Circuit()\n",
    "qubits=range(nqubit)\n",
    "circ.h(qubits)\n",
    "for ii in range(nqubit - 1):\n",
    "    circ.rz(ii+1, np.pi/(2**ii))\n",
    "    \n",
    "result = qft.run_quantum_fourier_transform(\n",
    "    nqubit,\n",
    "    nshots,\n",
    "    state_prep_cir=circ, doInverse=True,device=device)\n",
    "\n",
    "qft.postprocess_qft_results(result)"
   ]
  },
  {
   "cell_type": "code",
   "execution_count": null,
   "id": "99277828",
   "metadata": {},
   "outputs": [],
   "source": [
    "t.stop()\n",
    "print(\"Task Summary for device: Oxford QC Lucy\")\n",
    "print(t.quantum_tasks_statistics())"
   ]
  },
  {
   "cell_type": "markdown",
   "id": "86d71edc",
   "metadata": {},
   "source": [
    "## Rigetti Aspen 11"
   ]
  },
  {
   "cell_type": "code",
   "execution_count": null,
   "id": "d3634d68",
   "metadata": {},
   "outputs": [],
   "source": [
    "from braket.aws import AwsDevice\n",
    "from braket.tracking import Tracker\n",
    "\n",
    "t = Tracker().start()\n",
    "\n",
    "#https://aws.amazon.com/braket/quantum-computers/\n",
    "#https://docs.aws.amazon.com/braket/latest/developerguide/braket-devices.html    \n",
    "\n",
    "# device = AwsDevice('arn:aws:braket:eu-west-2::device/qpu/oqc/Lucy')                   #OQC Lucy\n",
    "# device = AwsDevice('arn:aws:braket:::device/qpu/ionq/ionQdevice')                     #IonQ\n",
    "device = AwsDevice('arn:aws:braket:::device/qpu/rigetti/Aspen-11')                    #Rigetti Aspen-11\n",
    "# device = AwsDevice('arn:aws:braket:us-west-1::device/qpu/rigetti/Aspen-M-2')          #Rigetti Aspen M-2\n",
    "\n",
    "\n"
   ]
  },
  {
   "cell_type": "markdown",
   "id": "860aa2f8",
   "metadata": {},
   "source": [
    "## Example 1"
   ]
  },
  {
   "cell_type": "code",
   "execution_count": null,
   "id": "b654b3ea",
   "metadata": {
    "scrolled": true
   },
   "outputs": [],
   "source": [
    "state_prep_cir = Circuit() \n",
    "\n",
    "result = qft.run_quantum_fourier_transform(4,10000,state_prep_cir=Circuit(), doInverse=False,device=device)\n",
    "\n",
    "qft.postprocess_qft_results(result)"
   ]
  },
  {
   "cell_type": "markdown",
   "id": "638bda93",
   "metadata": {},
   "source": [
    "## Example 2"
   ]
  },
  {
   "cell_type": "code",
   "execution_count": null,
   "id": "f6c17630",
   "metadata": {
    "scrolled": true
   },
   "outputs": [],
   "source": [
    "state_prep_cir = Circuit() \n",
    "\n",
    "#try changing to another qubit\n",
    "h_tgt=2\n",
    "\n",
    "result = qft.run_quantum_fourier_transform(nqubit,nshots,state_prep_cir=Circuit().h(h_tgt), doInverse=False,device=device)\n",
    "\n",
    "qft.postprocess_qft_results(result)"
   ]
  },
  {
   "cell_type": "markdown",
   "id": "a6b7b8c9",
   "metadata": {},
   "source": [
    "## Example 3"
   ]
  },
  {
   "cell_type": "code",
   "execution_count": null,
   "id": "c7f0496d",
   "metadata": {
    "scrolled": true
   },
   "outputs": [],
   "source": [
    "circ = Circuit()\n",
    "qubits=range(nqubit)\n",
    "circ.h(qubits)\n",
    "for ii in range(nqubit - 1):\n",
    "    circ.rz(ii+1, np.pi/(2**ii))\n",
    "    \n",
    "result = qft.run_quantum_fourier_transform(nqubit,nshots,state_prep_cir=circ, doInverse=True,device=device)\n",
    "\n",
    "qft.postprocess_qft_results(result)\n",
    "\n"
   ]
  },
  {
   "cell_type": "code",
   "execution_count": null,
   "id": "81587ca0",
   "metadata": {},
   "outputs": [],
   "source": [
    "t.stop()\n",
    "print(\"Task Summary Rigetti Aspen 11\")\n",
    "print(t.quantum_tasks_statistics())"
   ]
  },
  {
   "cell_type": "markdown",
   "id": "5e84f07f",
   "metadata": {},
   "source": [
    "## Rigetti Aspen M2"
   ]
  },
  {
   "cell_type": "code",
   "execution_count": null,
   "id": "6dc62ffa",
   "metadata": {},
   "outputs": [],
   "source": [
    "from braket.aws import AwsDevice\n",
    "from braket.tracking import Tracker\n",
    "\n",
    "t = Tracker().start()\n",
    "\n",
    "#https://aws.amazon.com/braket/quantum-computers/\n",
    "#https://docs.aws.amazon.com/braket/latest/developerguide/braket-devices.html    \n",
    "\n",
    "# device = AwsDevice('arn:aws:braket:eu-west-2::device/qpu/oqc/Lucy')                   #OQC Lucy\n",
    "# device = AwsDevice('arn:aws:braket:::device/qpu/ionq/ionQdevice')                     #IonQ\n",
    "# device = AwsDevice('arn:aws:braket:::device/qpu/rigetti/Aspen-11')                    #Rigetti Aspen-11\n",
    "device = AwsDevice('arn:aws:braket:us-west-1::device/qpu/rigetti/Aspen-M-2')          #Rigetti Aspen M-2\n",
    "\n",
    "\n"
   ]
  },
  {
   "cell_type": "markdown",
   "id": "56d7c54a",
   "metadata": {},
   "source": [
    "## Example 1"
   ]
  },
  {
   "cell_type": "code",
   "execution_count": null,
   "id": "c5ef7ce8",
   "metadata": {
    "scrolled": true
   },
   "outputs": [],
   "source": [
    "state_prep_cir = Circuit() \n",
    "\n",
    "result = qft.run_quantum_fourier_transform(nqubit,nshots,state_prep_cir=Circuit(), doInverse=False,device=device)\n",
    "\n",
    "qft.postprocess_qft_results(result)"
   ]
  },
  {
   "cell_type": "markdown",
   "id": "acb1a2fa",
   "metadata": {},
   "source": [
    "## Example 2"
   ]
  },
  {
   "cell_type": "code",
   "execution_count": null,
   "id": "c1966971",
   "metadata": {
    "scrolled": true
   },
   "outputs": [],
   "source": [
    "state_prep_cir = Circuit() \n",
    "\n",
    "#try changing to another qubit\n",
    "h_tgt=2\n",
    "\n",
    "result = qft.run_quantum_fourier_transform(nqubit,nshots,state_prep_cir=Circuit().h(h_tgt), doInverse=False,device=device)\n",
    "\n",
    "qft.postprocess_qft_results(result)"
   ]
  },
  {
   "cell_type": "markdown",
   "id": "a9687ae3",
   "metadata": {},
   "source": [
    "## Example 3"
   ]
  },
  {
   "cell_type": "code",
   "execution_count": null,
   "id": "d4e4da98",
   "metadata": {
    "scrolled": true
   },
   "outputs": [],
   "source": [
    "circ = Circuit()\n",
    "qubits=range(nqubit)\n",
    "circ.h(qubits)\n",
    "for ii in range(nqubit - 1):\n",
    "    circ.rz(ii+1, np.pi/(2**ii))\n",
    "    \n",
    "result = qft.run_quantum_fourier_transform(nqubit,nshots,state_prep_cir=circ, doInverse=True,device=device)\n",
    "\n",
    "qft.postprocess_qft_results(result)\n"
   ]
  },
  {
   "cell_type": "code",
   "execution_count": null,
   "id": "d81718bf",
   "metadata": {},
   "outputs": [],
   "source": [
    "t.stop()\n",
    "print(\"Task Summary: Rigetti M2\")\n",
    "print(t.quantum_tasks_statistics())"
   ]
  },
  {
   "cell_type": "markdown",
   "id": "fa571b55",
   "metadata": {},
   "source": [
    "## IonQ"
   ]
  },
  {
   "cell_type": "code",
   "execution_count": null,
   "id": "b7c371a7",
   "metadata": {},
   "outputs": [],
   "source": [
    "from braket.aws import AwsDevice\n",
    "from braket.tracking import Tracker\n",
    "\n",
    "t = Tracker().start()\n",
    "\n",
    "#https://aws.amazon.com/braket/quantum-computers/\n",
    "#https://docs.aws.amazon.com/braket/latest/developerguide/braket-devices.html    \n",
    "\n",
    "# device = AwsDevice('arn:aws:braket:eu-west-2::device/qpu/oqc/Lucy')                   #OQC Lucy\n",
    "device = AwsDevice('arn:aws:braket:::device/qpu/ionq/ionQdevice')                     #IonQ\n",
    "# device = AwsDevice('arn:aws:braket:::device/qpu/rigetti/Aspen-11')                    #Rigetti Aspen-11\n",
    "# device = AwsDevice('arn:aws:braket:us-west-1::device/qpu/rigetti/Aspen-M-2')          #Rigetti Aspen M-2\n",
    "\n",
    "\n"
   ]
  },
  {
   "cell_type": "markdown",
   "id": "9c857531",
   "metadata": {},
   "source": [
    "## Example 1"
   ]
  },
  {
   "cell_type": "code",
   "execution_count": null,
   "id": "6907b07c",
   "metadata": {
    "scrolled": true
   },
   "outputs": [],
   "source": [
    "state_prep_cir = Circuit() \n",
    "\n",
    "result = qft.run_quantum_fourier_transform(nqubit,nshots,state_prep_cir=Circuit(), doInverse=False,device=device)\n",
    "\n",
    "qft.postprocess_qft_results(result)"
   ]
  },
  {
   "cell_type": "markdown",
   "id": "c3bd7ac1",
   "metadata": {},
   "source": [
    "## Example 2"
   ]
  },
  {
   "cell_type": "code",
   "execution_count": null,
   "id": "332903e9",
   "metadata": {
    "scrolled": true
   },
   "outputs": [],
   "source": [
    "state_prep_cir = Circuit() \n",
    "\n",
    "#try changing to another qubit\n",
    "h_tgt=2\n",
    "\n",
    "result = qft.run_quantum_fourier_transform(nqubit,nshots,state_prep_cir=Circuit().h(h_tgt), doInverse=False,device=device)\n",
    "\n",
    "qft.postprocess_qft_results(result)"
   ]
  },
  {
   "cell_type": "markdown",
   "id": "889736e8",
   "metadata": {},
   "source": [
    "## Example 3"
   ]
  },
  {
   "cell_type": "code",
   "execution_count": null,
   "id": "403f5195",
   "metadata": {
    "scrolled": true
   },
   "outputs": [],
   "source": [
    "circ = Circuit()\n",
    "qubits=range(nqubit)\n",
    "circ.h(qubits)\n",
    "for ii in range(nqubit - 1):\n",
    "    circ.rz(ii+1, np.pi/(2**ii))\n",
    "    \n",
    "result = qft.run_quantum_fourier_transform(nqubit,nshots,state_prep_cir=circ, doInverse=True,device=device)\n",
    "\n",
    "qft.postprocess_qft_results(result)"
   ]
  },
  {
   "cell_type": "code",
   "execution_count": null,
   "id": "d70c60e3",
   "metadata": {},
   "outputs": [],
   "source": [
    "t.stop()\n",
    "print(\"Task Summary for device: Oxford QC Lucy\")\n",
    "print(t.quantum_tasks_statistics())"
   ]
  }
 ],
 "metadata": {
  "kernelspec": {
   "display_name": "Python 3 (ipykernel)",
   "language": "python",
   "name": "python3"
  },
  "language_info": {
   "codemirror_mode": {
    "name": "ipython",
    "version": 3
   },
   "file_extension": ".py",
   "mimetype": "text/x-python",
   "name": "python",
   "nbconvert_exporter": "python",
   "pygments_lexer": "ipython3",
   "version": "3.9.7"
  }
 },
 "nbformat": 4,
 "nbformat_minor": 5
}
