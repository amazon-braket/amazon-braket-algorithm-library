{
 "cells": [
  {
   "cell_type": "markdown",
   "id": "7447cb91",
   "metadata": {},
   "source": [
    "# Deutsch-Jozsa Algorithm"
   ]
  },
  {
   "cell_type": "markdown",
   "id": "5fc92ae8",
   "metadata": {},
   "source": [
    "In this tutorial we introduce one of the first quantum algorithm’s developed by pioneers David Deutsch and Richard Jozsa. This algorithm showcases an efficient quantum solution to a problem that cannot be solved classically but instead can be solved using a quantum device.   "
   ]
  },
  {
   "cell_type": "markdown",
   "id": "b54b6e03",
   "metadata": {},
   "source": [
    "## References \n",
    "[1] [Michael A. Nielsen & Isaac L. Chuang Quantum Computation and Quantim Information textbook](http://mmrc.amss.cas.cn/tlb/201702/W020170224608149940643.pdf)\n",
    "\n",
    "\n",
    "## Deutsch's Problem \n",
    "The algorithm proposed is solving a black box problem, trying to determine what the black box is the task at hand. The problem itself is not very applicable in real life but showcases an occasion where a quantum algorithm performs exponentially better than a classical one. \n",
    "\n",
    "Let $U_f$ be an oracle (black box) that computes a Boolean function which only takes binary inputs (0’s or 1’s). These functions can be represented as $f: {0, 1}^n →  {0, 1}$. This oracle evaluates two types of functions, constant or balanced. \n",
    "\n",
    "A constant function takes any input and returns only 0’s or only 1’s and a balanced function takes any input and returns exactly half 0’s and half 1’s. \n",
    "\n",
    "**Constant:** 011010 → $U_f$ → 000000  \n",
    "**Balanced:** 000011 → $U_f$ → 111000\n",
    "\n",
    "The goal is to determine what type of function is $U_f$ based on only the outputs. If the input is as large as $2^n$ then the amount of queries a classical computer will have to make is $2n/2+1$. We can see for a large enough n this problem scales exponentially and becomes inefficient to solve classically. However, leveraging a quantum algorithm we only need to query the oracle once to determine the type of function for $U_f$. This is possible because the state of its output might be in a coherent superposition of states corresponding to different answers, each which solves the problem (Deutsch 1992). \n"
   ]
  },
  {
   "cell_type": "code",
   "execution_count": 12,
   "id": "bf749e4c",
   "metadata": {},
   "outputs": [],
   "source": [
    "import matplotlib.pyplot as plt\n",
    "\n",
    "%matplotlib inline\n",
    "\n",
    "import random\n",
    "\n",
    "import numpy as np\n",
    "\n",
    "from braket.experimental.algorithms.deutsch_jozsa.deutsch_jozsa import (\n",
    "    balanced_oracle,\n",
    "    classical_generator,\n",
    "    constant_oracle,\n",
    "    deutsch_jozsa_algorithm,\n",
    "    init_states,\n",
    "    quantum_generator,\n",
    "    random_oracle,\n",
    ")"
   ]
  },
  {
   "cell_type": "markdown",
   "id": "6c9d7774",
   "metadata": {},
   "source": [
    "\n",
    "The initalization function prepares a superposition of all possible input values and the second register is in a superposition of 0 and 1. "
   ]
  },
  {
   "cell_type": "code",
   "execution_count": 13,
   "id": "df2029fc",
   "metadata": {},
   "outputs": [],
   "source": [
    "n_qubits = 3"
   ]
  },
  {
   "cell_type": "code",
   "execution_count": 14,
   "id": "f8476b46",
   "metadata": {},
   "outputs": [
    {
     "name": "stdout",
     "output_type": "stream",
     "text": [
      "T  : |0|1|\n",
      "          \n",
      "q0 : -H---\n",
      "          \n",
      "q1 : -H---\n",
      "          \n",
      "q2 : -H---\n",
      "          \n",
      "q3 : -X-H-\n",
      "\n",
      "T  : |0|1|\n"
     ]
    }
   ],
   "source": [
    "# example circuit initializition for 3 qubits\n",
    "init = init_states(n_qubits)\n",
    "print(init)"
   ]
  },
  {
   "cell_type": "markdown",
   "id": "3e3c3216",
   "metadata": {},
   "source": [
    "The oracle is the Boolean function that is applied to the $n$-qubits in the query register. "
   ]
  },
  {
   "cell_type": "markdown",
   "id": "e6361357",
   "metadata": {},
   "source": [
    "### For a constant function \n",
    "1. if $f(x) = 0$, then apply the I gate to the qubit in second register.  \n",
    "2. if $f(x) = 1$, then apply the X gate to the qubit in second register.  "
   ]
  },
  {
   "cell_type": "code",
   "execution_count": 15,
   "id": "309e238a",
   "metadata": {},
   "outputs": [
    {
     "name": "stdout",
     "output_type": "stream",
     "text": [
      "T  : |0|\n",
      "        \n",
      "q3 : -I-\n",
      "\n",
      "T  : |0|\n"
     ]
    }
   ],
   "source": [
    "# example circuit for constant oracle\n",
    "constant = constant_oracle(n_qubits)\n",
    "print(constant)"
   ]
  },
  {
   "cell_type": "markdown",
   "id": "953b206b",
   "metadata": {},
   "source": [
    "---------------------------------------------------------------------------------------------------------------------\n",
    "### For a balanced function\n",
    "\n",
    "Apply a CNOT gate to every qubit in the first register and set the qubit in the second register as the target. Use a random number generator to randomly choose which qubits to add an X - gate before and after the CNOT gate."
   ]
  },
  {
   "cell_type": "code",
   "execution_count": 16,
   "id": "428a40cc",
   "metadata": {},
   "outputs": [
    {
     "name": "stdout",
     "output_type": "stream",
     "text": [
      "T  : |0|1|2|3|\n",
      "              \n",
      "q0 : -X-C-X---\n",
      "        |     \n",
      "q1 : -X-|-C-X-\n",
      "        | |   \n",
      "q2 : ---|-|-C-\n",
      "        | | | \n",
      "q3 : ---X-X-X-\n",
      "\n",
      "T  : |0|1|2|3|\n"
     ]
    }
   ],
   "source": [
    "# example circuit for balanced oracle\n",
    "balanced = balanced_oracle(n_qubits)\n",
    "print(balanced)"
   ]
  },
  {
   "cell_type": "markdown",
   "id": "916d1bdd",
   "metadata": {},
   "source": [
    "### For a random function\n",
    "\n",
    "We have created a random oracle generator to showcase the many different ways a constant or balanced oracle can be made using just X, CNOT and CCNOT gates. When running this function, you can have 3 different outcomes. Either a constant function, a balanced function or neither. "
   ]
  },
  {
   "cell_type": "code",
   "execution_count": 17,
   "id": "6aa1159b",
   "metadata": {},
   "outputs": [
    {
     "name": "stdout",
     "output_type": "stream",
     "text": [
      "T  : |0|1|2|\n",
      "            \n",
      "q1 : -X-C-X-\n",
      "        |   \n",
      "q2 : ---X---\n",
      "\n",
      "T  : |0|1|2|\n"
     ]
    }
   ],
   "source": [
    "random = random_oracle(n_qubits)\n",
    "print(random)"
   ]
  },
  {
   "cell_type": "markdown",
   "id": "84eb4276",
   "metadata": {},
   "source": [
    "### General Deutsch-Jozsa algorithm"
   ]
  },
  {
   "cell_type": "code",
   "execution_count": 18,
   "id": "7b0dc6da",
   "metadata": {},
   "outputs": [
    {
     "name": "stdout",
     "output_type": "stream",
     "text": [
      "Measurement results:\n",
      " {'0001': 0.5008, '0000': 0.4992}\n",
      "T  : |0|1|2|3|4|Result Types|\n",
      "                           \n",
      "q0 : -H-X-C-X-H-Sample(Z)----\n",
      "          |                \n",
      "q1 : -H---X-H---Sample(Z)----\n",
      "                           \n",
      "q2 : -H-H-------Sample(Z)----\n",
      "                           \n",
      "q3 : -X-H--------------------\n",
      "\n",
      "T  : |0|1|2|3|4|Result Types|\n"
     ]
    }
   ],
   "source": [
    "# randomly choose the type of oracle to implement in your algorithm\n",
    "dj_circuit, dj_result = deutsch_jozsa_algorithm(\n",
    "    np.random.choice([constant, balanced, random]), n_qubits\n",
    ")\n",
    "print(dj_circuit)"
   ]
  },
  {
   "cell_type": "code",
   "execution_count": 19,
   "id": "b5dc31f3",
   "metadata": {},
   "outputs": [
    {
     "name": "stdout",
     "output_type": "stream",
     "text": [
      "Counter({'0001': 5008, '0000': 4992})\n"
     ]
    }
   ],
   "source": [
    "print(dj_result.measurement_counts)"
   ]
  },
  {
   "cell_type": "markdown",
   "id": "bca3e73d",
   "metadata": {},
   "source": [
    "## Classicaly Run the Random Circuit Generator \n",
    "\n",
    "The function classical_generator takes a random oracle and applies it to $2^n$ possible combinations where n is the number of qubits you've initialized. We can create a classical circuit by removing the Hadamard gates because without putting any qubits in superposition, the circuit can't display quantum mechanical properties. \n",
    "\n",
    "If n = 3 then we get a result of 8 different circuits. We then determine if these circuits are constant, balanced or neither at the end so we can compare it with results when we run this circuit but this time on a quantum circuit.\n",
    "\n",
    "#### *To generate a new random circuit run the [random oracle](#random) again!*"
   ]
  },
  {
   "cell_type": "code",
   "execution_count": 20,
   "id": "7a252e2b",
   "metadata": {},
   "outputs": [
    {
     "name": "stdout",
     "output_type": "stream",
     "text": [
      "[0, 0, 0]\n",
      "T  : |0|1|2|3|Result Types|\n",
      "                         \n",
      "q0 : -I-X-C-X--------------\n",
      "          |              \n",
      "q1 : -I---X----------------\n",
      "                         \n",
      "q2 : -I--------------------\n",
      "                         \n",
      "q3 : ---------Sample(Z)----\n",
      "\n",
      "T  : |0|1|2|3|Result Types|\n",
      "Measurement results:\n",
      " {'0100': 1.0}\n",
      "[0, 0, 1]\n",
      "T  : |0|1|2|3|Result Types|\n",
      "                         \n",
      "q0 : -I-X-C-X--------------\n",
      "          |              \n",
      "q1 : -I---X----------------\n",
      "                         \n",
      "q2 : -X--------------------\n",
      "                         \n",
      "q3 : ---------Sample(Z)----\n",
      "\n",
      "T  : |0|1|2|3|Result Types|\n",
      "Measurement results:\n",
      " {'0110': 1.0}\n",
      "[0, 1, 0]\n",
      "T  : |0|1|2|3|Result Types|\n",
      "                         \n",
      "q0 : -I-X-C-X--------------\n",
      "          |              \n",
      "q1 : -X---X----------------\n",
      "                         \n",
      "q2 : -I--------------------\n",
      "                         \n",
      "q3 : ---------Sample(Z)----\n",
      "\n",
      "T  : |0|1|2|3|Result Types|\n",
      "Measurement results:\n",
      " {'0000': 1.0}\n",
      "[0, 1, 1]\n",
      "T  : |0|1|2|3|Result Types|\n",
      "                         \n",
      "q0 : -I-X-C-X--------------\n",
      "          |              \n",
      "q1 : -X---X----------------\n",
      "                         \n",
      "q2 : -X--------------------\n",
      "                         \n",
      "q3 : ---------Sample(Z)----\n",
      "\n",
      "T  : |0|1|2|3|Result Types|\n",
      "Measurement results:\n",
      " {'0010': 1.0}\n",
      "[1, 0, 0]\n",
      "T  : |0|1|2|3|Result Types|\n",
      "                         \n",
      "q0 : -X-X-C-X--------------\n",
      "          |              \n",
      "q1 : -I---X----------------\n",
      "                         \n",
      "q2 : -I--------------------\n",
      "                         \n",
      "q3 : ---------Sample(Z)----\n",
      "\n",
      "T  : |0|1|2|3|Result Types|\n",
      "Measurement results:\n",
      " {'1000': 1.0}\n",
      "[1, 0, 1]\n",
      "T  : |0|1|2|3|Result Types|\n",
      "                         \n",
      "q0 : -X-X-C-X--------------\n",
      "          |              \n",
      "q1 : -I---X----------------\n",
      "                         \n",
      "q2 : -X--------------------\n",
      "                         \n",
      "q3 : ---------Sample(Z)----\n",
      "\n",
      "T  : |0|1|2|3|Result Types|\n",
      "Measurement results:\n",
      " {'1010': 1.0}\n",
      "[1, 1, 0]\n",
      "T  : |0|1|2|3|Result Types|\n",
      "                         \n",
      "q0 : -X-X-C-X--------------\n",
      "          |              \n",
      "q1 : -X---X----------------\n",
      "                         \n",
      "q2 : -I--------------------\n",
      "                         \n",
      "q3 : ---------Sample(Z)----\n",
      "\n",
      "T  : |0|1|2|3|Result Types|\n",
      "Measurement results:\n",
      " {'1100': 1.0}\n",
      "[1, 1, 1]\n",
      "T  : |0|1|2|3|Result Types|\n",
      "                         \n",
      "q0 : -X-X-C-X--------------\n",
      "          |              \n",
      "q1 : -X---X----------------\n",
      "                         \n",
      "q2 : -X--------------------\n",
      "                         \n",
      "q3 : ---------Sample(Z)----\n",
      "\n",
      "T  : |0|1|2|3|Result Types|\n",
      "Measurement results:\n",
      " {'1110': 1.0}\n",
      "This is a constant function\n",
      "These are the final outputs from the random circuits [0, 0, 0, 0, 0, 0, 0, 0]\n"
     ]
    }
   ],
   "source": [
    "run_circuit = classical_generator(n_qubits, random)"
   ]
  },
  {
   "cell_type": "markdown",
   "id": "a7e8dda4",
   "metadata": {},
   "source": [
    "## Run Random Circuit Generator on Quantum Circuit\n",
    "\n",
    "Now we can run the random circuit we generated classically on a quantum circuit to compare and see if the results are the same. We measure the results and based on the output we can determine what type of function the random circuit was."
   ]
  },
  {
   "cell_type": "code",
   "execution_count": 21,
   "id": "2799b85d",
   "metadata": {},
   "outputs": [
    {
     "name": "stdout",
     "output_type": "stream",
     "text": [
      "Measurement results:\n",
      " {'0001': 0.46, '0000': 0.54}\n",
      "This is a constant function\n"
     ]
    }
   ],
   "source": [
    "oracle = quantum_generator(n_qubits, run_circuit)"
   ]
  },
  {
   "cell_type": "markdown",
   "id": "9f9df8bc",
   "metadata": {},
   "source": [
    "<a id=\"summary\"></a>\n",
    "\n",
    "## Comparing the Classical and Quantum Results\n",
    "\n",
    "Once you've run the classical and quantum version of the random circuit you can compare the results. If both correspond to the same type of function then we have found another way to implement the constant or balanced function! \n",
    "\n",
    "You can keep generating more random circuits to see how the constant and balanced functions can be created including circuits that are extremely large, for example 10 qubits! There is also a possibility that you can generate a random circuit that is neither a constant or balanced function. \n",
    "\n",
    "To test new random circuits, remember to run the [random oracle](#random) once again."
   ]
  },
  {
   "cell_type": "code",
   "execution_count": 22,
   "id": "05002704",
   "metadata": {},
   "outputs": [
    {
     "name": "stdout",
     "output_type": "stream",
     "text": [
      "Task Summary\n",
      "{}\n",
      "Note: Charges shown are estimates based on your Amazon Braket simulator and quantum processing unit (QPU) task usage. Estimated charges shown may differ from your actual charges. Estimated charges do not factor in any discounts or credits, and you may experience additional charges based on your use of other services such as Amazon Elastic Compute Cloud (Amazon EC2).\n",
      "Estimated cost to run this example: 0.00 USD\n"
     ]
    }
   ],
   "source": [
    "from braket.tracking import Tracker\n",
    "\n",
    "tracker = Tracker()\n",
    "\n",
    "print(\"Task Summary\")\n",
    "print(tracker.quantum_tasks_statistics())\n",
    "print(\n",
    "    \"Note: Charges shown are estimates based on your Amazon Braket simulator and quantum processing unit (QPU) task usage. Estimated charges shown may differ from your actual charges. Estimated charges do not factor in any discounts or credits, and you may experience additional charges based on your use of other services such as Amazon Elastic Compute Cloud (Amazon EC2).\"\n",
    ")\n",
    "print(\n",
    "    f\"Estimated cost to run this example: {tracker.qpu_tasks_cost() + tracker.simulator_tasks_cost():.2f} USD\"\n",
    ")"
   ]
  }
 ],
 "metadata": {
  "kernelspec": {
   "display_name": "Python 3.9.5 64-bit ('braket')",
   "language": "python",
   "name": "python3"
  },
  "language_info": {
   "codemirror_mode": {
    "name": "ipython",
    "version": 3
   },
   "file_extension": ".py",
   "mimetype": "text/x-python",
   "name": "python",
   "nbconvert_exporter": "python",
   "pygments_lexer": "ipython3",
   "version": "3.9.5"
  },
  "vscode": {
   "interpreter": {
    "hash": "5904cb9a2089448a2e1aeb5d493d227c9de33e591d7c07e4016fb81e71061a5d"
   }
  }
 },
 "nbformat": 4,
 "nbformat_minor": 5
}
