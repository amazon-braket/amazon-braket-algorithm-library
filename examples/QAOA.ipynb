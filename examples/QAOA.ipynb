{
 "cells": [
  {
   "cell_type": "markdown",
   "id": "8b423ad7",
   "metadata": {},
   "source": [
    "# QUANTUM APPROXIMATE OPTIMIZATION ALGORITHM (QAOA)"
   ]
  },
  {
   "cell_type": "markdown",
   "id": "12e108d5",
   "metadata": {},
   "source": [
    "In this tutorial we show how to (approximately) solve binary combinatorial optimization problems, using the __Quantum Approximate Optimization Algorithm (QAOA)__, as introduced in Ref.[1]. \n",
    "The QAOA algorithm belongs to the class of __hybrid quantum algorithms__ (leveraging both classical as well as quantum compute), that are widely believed to be the working horse for the current __NISQ (noisy intermediate-scale quantum) era__.\n",
    "In this NISQ era QAOA is also an emerging approach for benchmarking quantum devices and is a prime candidate for demonstrating a practical quantum speed-up on near-term NISQ device [1,4]. \n",
    "To validate our approach we benchmark our results with exact results as obtained from classical QUBO solvers. \n",
    "\n",
    "We provide a step-by-step walkthrough explaining the QAOA quantum algorithm and show how to build the corresponding parametrized quantum circuit ansatz using the ```Braket``` SDK, with simple modular building blocks (that can be re-used for other purposes). \n",
    "We use open-source off-the-shelf ```scipy``` optimizers for classical numerical optimization. \n",
    "While we demonstrate our proof-of-concept approach using classical simulators for circuit execution, our code could in principle be run on actual quantum hardware by simply changing the definition of the ```device``` object (provided that the gate set used in the ansatz is supported by the device, as is the case here for IonQ; for Rigetti we need to apply one more extra trick as shown below). "
   ]
  },
  {
   "cell_type": "code",
   "execution_count": 1,
   "id": "bd0a975d",
   "metadata": {},
   "outputs": [],
   "source": [
    "import numpy as np\n",
    "from braket.devices import LocalSimulator\n",
    "from scipy.optimize import minimize\n",
    "\n",
    "from braket.experimental.algorithms.qaoa import cost_function, qaoa"
   ]
  },
  {
   "cell_type": "markdown",
   "id": "68ac1f67",
   "metadata": {},
   "source": [
    "We are now all set to run some QAOA simulation experiments. \n",
    "First of all, you can play and experiment yourself with the number of qubits $N$. \n",
    "Secondly, you may also experiment with the classical optimizer. \n",
    "Since we are using an off-the-shelf, black-box ```scipy``` minimizer (as described in more detail [here](https://docs.scipy.org/doc/scipy/reference/generated/scipy.optimize.minimize.html)), you can simply swap between different optimizers by setting the ```OPT_METHOD``` parameter below. \n",
    "Some popular options readily available within this library include *Nelder-Mead*, *BFGS* and *COBYLA*. \n",
    "As a precautionary warning, note that the classical optimization step may get stuck in a local optimum, rather than finding the global minimum for our parametrized QAOA ansatz wavefunction. \n",
    "To address this issue, we may run several optimization loops, starting from different random parameter seeds. \n",
    "While this brute-force approach does not provide any guarantee to find the global optimum, from a pragmatic point of view at least it does increase the odds of finding an acceptable solution, at the expense of potentially having to run many more circuits on the simulator or QPU, respectively.\n",
    "Finally, the optimization loop may require the execution of many individual quantum tasks (i.e., single circuit executions for fixed parameters). \n",
    "For example, when choosing the classical [Powell](https://docs.scipy.org/doc/scipy/reference/optimize.minimize-powell.html#optimize-minimize-powell) optimizer for the graph considered here, we find $\\sim 270$ cycles in the for loop. \n",
    "For the local simulator device chosen here by default this is not an issue, but if you run this algorithm on any QPU you may want to adjust the ```maxfev``` parameter to control the maximum allowed number function evaluations (compare comment in the next code block below)."
   ]
  },
  {
   "cell_type": "code",
   "execution_count": 2,
   "id": "50e4d13a",
   "metadata": {},
   "outputs": [
    {
     "name": "stdout",
     "output_type": "stream",
     "text": [
      "[[0.         0.63535649]\n",
      " [0.23771676 0.        ]]\n"
     ]
    }
   ],
   "source": [
    "n_qubits = 2\n",
    "n_layers = 1\n",
    "\n",
    "coupling_matrix = np.diag(np.ones(n_qubits - 1), 1)\n",
    "coupling_matrix = np.random.rand(n_qubits, n_qubits)\n",
    "for i in range(n_qubits):\n",
    "    coupling_matrix[i, i] = 0  # remove diagonal elements\n",
    "\n",
    "print(coupling_matrix)"
   ]
  },
  {
   "cell_type": "code",
   "execution_count": 3,
   "id": "6e26acc1",
   "metadata": {},
   "outputs": [
    {
     "name": "stdout",
     "output_type": "stream",
     "text": [
      "T  : |0|1|              2              |3|4|              5              |6|     7      |          Result Types           |\n",
      "                                                                                                                           \n",
      "q0 : -H-C-------------------------------C-X-Rz(0.237716759249556*gamma_0)-X-Rx(2*beta_0)-Expectation(Z@Z)-Expectation(Z@Z)-\n",
      "        |                               | |                               |              |                |                \n",
      "q1 : -H-X-Rz(0.635356490744946*gamma_0)-X-C-------------------------------C-Rx(2*beta_0)-Expectation(Z@Z)-Expectation(Z@Z)-\n",
      "\n",
      "T  : |0|1|              2              |3|4|              5              |6|     7      |          Result Types           |\n",
      "\n",
      "Unassigned parameters: [beta_0, gamma_0].\n"
     ]
    }
   ],
   "source": [
    "circ = qaoa(n_qubits, n_layers, coupling_matrix)\n",
    "print(circ)"
   ]
  },
  {
   "cell_type": "code",
   "execution_count": 4,
   "id": "223d34d0",
   "metadata": {},
   "outputs": [
    {
     "name": "stdout",
     "output_type": "stream",
     "text": [
      "[0.6353564907449465, 0.2377167592495565]\n"
     ]
    }
   ],
   "source": [
    "idx = coupling_matrix.nonzero()\n",
    "coeffs = [coupling_matrix[qubit_pair] for qubit_pair in zip(idx[0], idx[1])]\n",
    "print(coeffs)"
   ]
  },
  {
   "cell_type": "markdown",
   "id": "8cc043c3",
   "metadata": {},
   "source": [
    "## Run on a local simulator\n",
    "\n",
    "Now we run the QAOA on a local simulator by the Nelder-Mead method from scipy.optimize."
   ]
  },
  {
   "cell_type": "code",
   "execution_count": 5,
   "id": "c700195c",
   "metadata": {},
   "outputs": [],
   "source": [
    "device = LocalSimulator()\n",
    "\n",
    "init_values = np.random.rand(2 * n_layers)\n",
    "\n",
    "# set bounds for search space\n",
    "bounds = [(0, 2 * np.pi) for _ in range(2 * n_layers)]\n",
    "\n",
    "losses = []"
   ]
  },
  {
   "cell_type": "code",
   "execution_count": 6,
   "id": "bc524eef",
   "metadata": {},
   "outputs": [
    {
     "name": "stdout",
     "output_type": "stream",
     "text": [
      "Optimization terminated successfully.\n",
      "         Current function value: -0.873073\n",
      "         Iterations: 49\n",
      "         Function evaluations: 88\n"
     ]
    }
   ],
   "source": [
    "losses = []\n",
    "result = minimize(\n",
    "    cost_function,\n",
    "    init_values,\n",
    "    args=(device, circ, coeffs, losses, 0),  # shots=0\n",
    "    options={\"disp\": True, \"maxfev\": 150},\n",
    "    method=\"Nelder-Mead\",\n",
    "    bounds=bounds,\n",
    ")"
   ]
  },
  {
   "cell_type": "code",
   "execution_count": 10,
   "id": "16df2abe",
   "metadata": {},
   "outputs": [
    {
     "data": {
      "text/plain": [
       "Text(0.5, 1.0, 'QAOA convergence of cost function')"
      ]
     },
     "execution_count": 10,
     "metadata": {},
     "output_type": "execute_result"
    },
    {
     "data": {
      "image/png": "[encoded data removed]",
      "text/plain": [
       "<Figure size 640x480 with 1 Axes>"
      ]
     },
     "metadata": {},
     "output_type": "display_data"
    }
   ],
   "source": [
    "import matplotlib.pyplot as plt\n",
    "\n",
    "%matplotlib inline\n",
    "\n",
    "plt.plot(losses, \"-o\")\n",
    "plt.ylabel(\"Cost\")\n",
    "plt.xlabel(\"Iteration\")\n",
    "plt.title(\"QAOA convergence of cost function\")"
   ]
  },
  {
   "cell_type": "code",
   "execution_count": null,
   "id": "96992efa",
   "metadata": {},
   "outputs": [],
   "source": []
  }
 ],
 "metadata": {
  "kernelspec": {
   "display_name": "Python 3.9.5 64-bit ('braket')",
   "language": "python",
   "name": "python3"
  },
  "language_info": {
   "codemirror_mode": {
    "name": "ipython",
    "version": 3
   },
   "file_extension": ".py",
   "mimetype": "text/x-python",
   "name": "python",
   "nbconvert_exporter": "python",
   "pygments_lexer": "ipython3",
   "version": "3.9.5"
  },
  "vscode": {
   "interpreter": {
    "hash": "5904cb9a2089448a2e1aeb5d493d227c9de33e591d7c07e4016fb81e71061a5d"
   }
  }
 },
 "nbformat": 4,
 "nbformat_minor": 5
}
