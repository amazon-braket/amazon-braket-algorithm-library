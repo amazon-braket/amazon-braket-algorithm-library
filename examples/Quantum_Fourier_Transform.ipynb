{
 "cells": [
  {
   "cell_type": "markdown",
   "id": "b7b21320",
   "metadata": {},
   "source": [
    "# Quantum Fourier Transform\n",
    "\n",
    "The QFT is an important subroutine to many quantum algorithms, most famously Shor's algorithm for factoring and the quantum phase estimation (QPE) algorithm for estimating the eigenvalues of a unitary operator [1, 2]. The QFT can be performed efficiently on a quantum computer, using only\n",
    "single-qubit Hadamard gates and two-qubit controlled phase shift gates, where is the number of qubits. We first review the basics of the quantum Fourier transform, and its relation to the discrete (classical) Fourier transform. We then implement the QFT in code two ways: recursively and non-recursively. \n",
    "\n",
    "## Reference\n",
    "\n",
    "[1] Wikipedia: https://en.wikipedia.org/wiki/Quantum_Fourier_transform\n",
    "\n",
    "[2] Nielsen, Michael A., Chuang, Isaac L. (2010). Quantum Computation and Quantum Information (2nd ed.). Cambridge: Cambridge University Press."
   ]
  },
  {
   "cell_type": "code",
   "execution_count": 1,
   "id": "865f8bf5",
   "metadata": {},
   "outputs": [],
   "source": [
    "import matplotlib.pyplot as plt\n",
    "import numpy as np\n",
    "from braket.circuits import Circuit\n",
    "from braket.devices import LocalSimulator\n",
    "\n",
    "from braket.experimental.algorithms.quantum_fourier_transform import (\n",
    "    quantum_fourier_transform as qft,\n",
    ")"
   ]
  },
  {
   "cell_type": "markdown",
   "id": "1991c703",
   "metadata": {},
   "source": [
    "# Circuits"
   ]
  },
  {
   "cell_type": "code",
   "execution_count": 2,
   "id": "e040b503",
   "metadata": {
    "scrolled": true
   },
   "outputs": [
    {
     "name": "stdout",
     "output_type": "stream",
     "text": [
      "T  : |0|     1     |      2      |           3           |      4      |     5     | 6  | 7  |\n",
      "                                                                                              \n",
      "q0 : -H-PHASE(1.57)-PHASE(0.79)---PHASE(0.39)--------------------------------------------SWAP-\n",
      "        |           |             |                                                      |    \n",
      "q1 : ---C-----------|-----------H-|-----------PHASE(1.57)-PHASE(0.79)---------------SWAP-|----\n",
      "                    |             |           |           |                         |    |    \n",
      "q2 : ---------------C-------------|-----------C-----------|-----------H-PHASE(1.57)-SWAP-|----\n",
      "                                  |                       |             |                |    \n",
      "q3 : -----------------------------C-----------------------C-------------C-----------H----SWAP-\n",
      "\n",
      "T  : |0|     1     |      2      |           3           |      4      |     5     | 6  | 7  |\n"
     ]
    }
   ],
   "source": [
    "n_qubits = 4\n",
    "circuit = qft.quantum_fourier_transform(range(n_qubits))\n",
    "print(circuit)"
   ]
  },
  {
   "cell_type": "code",
   "execution_count": 3,
   "id": "a6a27639",
   "metadata": {
    "scrolled": true
   },
   "outputs": [
    {
     "name": "stdout",
     "output_type": "stream",
     "text": [
      "T  : |    0    |1|     2      |      3       |            4            |      5       |     6      |7|\n",
      "                                                                                                      \n",
      "q0 : -SWAP-------------------------------------------------PHASE(-0.39)---PHASE(-0.79)-PHASE(-1.57)-H-\n",
      "      |                                                    |              |            |              \n",
      "q1 : -|----SWAP------------------PHASE(-0.79)-PHASE(-1.57)-|------------H-|------------C--------------\n",
      "      |    |                     |            |            |              |                           \n",
      "q2 : -|----SWAP---PHASE(-1.57)-H-|------------C------------|--------------C---------------------------\n",
      "      |           |              |                         |                                          \n",
      "q3 : -SWAP------H-C--------------C-------------------------C------------------------------------------\n",
      "\n",
      "T  : |    0    |1|     2      |      3       |            4            |      5       |     6      |7|\n"
     ]
    }
   ],
   "source": [
    "circuit = qft.inverse_quantum_fourier_transform(range(n_qubits))\n",
    "print(circuit)"
   ]
  },
  {
   "cell_type": "markdown",
   "id": "6fe50dcb",
   "metadata": {},
   "source": [
    "# Local Simulator"
   ]
  },
  {
   "cell_type": "markdown",
   "id": "0186b9ab",
   "metadata": {},
   "source": [
    "## Example 1"
   ]
  },
  {
   "cell_type": "code",
   "execution_count": 4,
   "id": "a8904721",
   "metadata": {
    "scrolled": true
   },
   "outputs": [
    {
     "data": {
      "image/png": "[encoded data removed]",
      "text/plain": [
       "<Figure size 432x288 with 1 Axes>"
      ]
     },
     "metadata": {
      "needs_background": "light"
     },
     "output_type": "display_data"
    }
   ],
   "source": [
    "task = qft.run_quantum_fourier_transform(\n",
    "    qubits=range(4),\n",
    "    n_shots=1000,\n",
    "    device=LocalSimulator()\n",
    ")\n",
    "probabilities = task.result().values[0]\n",
    "qft.plot_bitstrings(probabilities)"
   ]
  },
  {
   "cell_type": "markdown",
   "id": "edc705a9",
   "metadata": {},
   "source": [
    "## Example 2"
   ]
  },
  {
   "cell_type": "code",
   "execution_count": 5,
   "id": "ccfd12f8",
   "metadata": {
    "scrolled": true
   },
   "outputs": [
    {
     "data": {
      "image/png": "[encoded data removed]",
      "text/plain": [
       "<Figure size 432x288 with 1 Axes>"
      ]
     },
     "metadata": {
      "needs_background": "light"
     },
     "output_type": "display_data"
    }
   ],
   "source": [
    "h_tgt=2\n",
    "state_prep_circ = Circuit().h(h_tgt)\n",
    "\n",
    "result = qft.run_quantum_fourier_transform(\n",
    "    qubits=range(4),\n",
    "    n_shots=1000,\n",
    "    state_prep_circ=state_prep_circ, \n",
    "    device=LocalSimulator()\n",
    ")\n",
    "\n",
    "probabilities = task.result().values[0]\n",
    "qft.plot_bitstrings(probabilities)"
   ]
  },
  {
   "cell_type": "markdown",
   "id": "d3c380c3",
   "metadata": {},
   "source": [
    "## Example 3"
   ]
  },
  {
   "cell_type": "code",
   "execution_count": 6,
   "id": "623f2d8a",
   "metadata": {},
   "outputs": [
    {
     "data": {
      "image/png": "[encoded data removed]",
      "text/plain": [
       "<Figure size 432x288 with 1 Axes>"
      ]
     },
     "metadata": {
      "needs_background": "light"
     },
     "output_type": "display_data"
    }
   ],
   "source": [
    "circ = Circuit()\n",
    "circ.h(range(n_qubits))\n",
    "for ii in range(n_qubits - 1):\n",
    "    circ.rz(ii+1, np.pi/(2**ii))\n",
    "    \n",
    "result = qft.run_quantum_fourier_transform(\n",
    "    qubits=range(4),\n",
    "    n_shots=1000,\n",
    "    state_prep_circ=circ, \n",
    "    inverse=True, # inverse-qft\n",
    "    device=LocalSimulator()\n",
    ")\n",
    "\n",
    "probabilities = task.result().values[0]\n",
    "qft.plot_bitstrings(probabilities)"
   ]
  },
  {
   "cell_type": "markdown",
   "id": "e6c75a51",
   "metadata": {},
   "source": [
    "# Quantum devices"
   ]
  },
  {
   "cell_type": "code",
   "execution_count": 7,
   "id": "e6109e88",
   "metadata": {},
   "outputs": [],
   "source": [
    "from braket.aws import AwsDevice\n",
    "from braket.tracking import Tracker\n",
    "\n",
    "t = Tracker().start()\n",
    "\n",
    "device = AwsDevice('arn:aws:braket:eu-west-2::device/qpu/oqc/Lucy')"
   ]
  },
  {
   "cell_type": "markdown",
   "id": "a28283ce",
   "metadata": {},
   "source": [
    "## Example 1"
   ]
  },
  {
   "cell_type": "code",
   "execution_count": 8,
   "id": "0bef7d2d",
   "metadata": {
    "scrolled": true
   },
   "outputs": [
    {
     "data": {
      "image/png": "[encoded data removed]",
      "text/plain": [
       "<Figure size 432x288 with 1 Axes>"
      ]
     },
     "metadata": {
      "needs_background": "light"
     },
     "output_type": "display_data"
    }
   ],
   "source": [
    "# result = qft.run_quantum_fourier_transform(\n",
    "#     qubits=range(4),\n",
    "#     n_shots=1000,\n",
    "#     device=device\n",
    "# )\n",
    "\n",
    "# probabilities = task.result().values[0]\n",
    "# qft.plot_bitstrings(probabilities)"
   ]
  },
  {
   "cell_type": "markdown",
   "id": "6c11dc46",
   "metadata": {},
   "source": [
    "## Example 2"
   ]
  },
  {
   "cell_type": "code",
   "execution_count": 9,
   "id": "26030bda",
   "metadata": {
    "scrolled": true
   },
   "outputs": [
    {
     "data": {
      "image/png": "[encoded data removed]",
      "text/plain": [
       "<Figure size 432x288 with 1 Axes>"
      ]
     },
     "metadata": {
      "needs_background": "light"
     },
     "output_type": "display_data"
    }
   ],
   "source": [
    "# h_tgt=2\n",
    "# state_prep_circ = Circuit().h(h_tgt)\n",
    "\n",
    "# result = qft.run_quantum_fourier_transform(\n",
    "#     qubits=range(4),\n",
    "#     n_shots=1000,\n",
    "#     state_prep_circ=state_prep_circ, \n",
    "#     device=device\n",
    "# )\n",
    "\n",
    "# probabilities = task.result().values[0]\n",
    "# qft.plot_bitstrings(probabilities)"
   ]
  },
  {
   "cell_type": "markdown",
   "id": "94558d07",
   "metadata": {},
   "source": [
    "## Example 3"
   ]
  },
  {
   "cell_type": "code",
   "execution_count": 10,
   "id": "26b846e7",
   "metadata": {
    "scrolled": true
   },
   "outputs": [
    {
     "data": {
      "image/png": "[encoded data removed]",
      "text/plain": [
       "<Figure size 432x288 with 1 Axes>"
      ]
     },
     "metadata": {
      "needs_background": "light"
     },
     "output_type": "display_data"
    }
   ],
   "source": [
    "# circ = Circuit()\n",
    "# circ.h(range(n_qubits))\n",
    "# for ii in range(n_qubits - 1):\n",
    "#     circ.rz(ii+1, np.pi/(2**ii))\n",
    "    \n",
    "# result = qft.run_quantum_fourier_transform(\n",
    "#     qubits=range(4),\n",
    "#     n_shots=1000,\n",
    "#     state_prep_circ=circ, \n",
    "#     inverse=True, # inverse-qft\n",
    "#     device=device\n",
    "# )\n",
    "\n",
    "# probabilities = task.result().values[0]\n",
    "# qft.plot_bitstrings(probabilities)"
   ]
  },
  {
   "cell_type": "code",
   "execution_count": 11,
   "id": "99277828",
   "metadata": {},
   "outputs": [
    {
     "name": "stdout",
     "output_type": "stream",
     "text": [
      "Task Summary for device\n",
      "{'arn:aws:braket:::device/quantum-simulator/amazon/sv1': {'shots': 3000, 'tasks': {'COMPLETED': 3}, 'execution_duration': datetime.timedelta(microseconds=19000), 'billed_execution_duration': datetime.timedelta(seconds=9)}}\n"
     ]
    }
   ],
   "source": [
    "t.stop()\n",
    "print(\"Task Summary for device\")\n",
    "print(t.quantum_tasks_statistics())"
   ]
  }
 ],
 "metadata": {
  "kernelspec": {
   "display_name": "Python 3 (ipykernel)",
   "language": "python",
   "name": "python3"
  },
  "language_info": {
   "codemirror_mode": {
    "name": "ipython",
    "version": 3
   },
   "file_extension": ".py",
   "mimetype": "text/x-python",
   "name": "python",
   "nbconvert_exporter": "python",
   "pygments_lexer": "ipython3",
   "version": "3.9.7"
  }
 },
 "nbformat": 4,
 "nbformat_minor": 5
}
